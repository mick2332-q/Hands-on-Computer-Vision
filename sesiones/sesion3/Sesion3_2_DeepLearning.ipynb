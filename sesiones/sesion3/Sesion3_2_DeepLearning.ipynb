{
  "cells": [
    {
      "cell_type": "markdown",
      "metadata": {
        "id": "QTTkpAgbLWqr"
      },
      "source": [
        "![banner](https://github.com/mick2332-q/Hands-on-Computer-Vision/blob/main/sesiones/sesion3/banner.png?raw=1)\n"
      ]
    },
    {
      "cell_type": "markdown",
      "metadata": {
        "id": "AcRZEsRLRwiG"
      },
      "source": [
        "# 🖥️✨ **Librerias importantes de Visión por Computadora**  \n",
        "\n",
        "🔹 **TorchVision** - Base principal para tareas de visión por computadora.  \n",
        "📂 **torchvision.datasets** - Accede a conjuntos de datos y carga de datos para visión por computadora.  \n",
        "🤖 **torchvision.models** - Modelos pre-entrenados listos para usar en tareas de visión por computadora.  \n",
        "🎨 **torchvision.transforms** - Transformaciones para el procesamiento de imágenes.  \n",
        "📦 **torch.utils.data.Dataset** - Clase base para crear conjuntos de datos en PyTorch.  \n",
        "🔄 **torch.utils.data.DataLoader** - Crea un iterable en Python para recorrer un conjunto de datos.  \n"
      ]
    },
    {
      "cell_type": "code",
      "execution_count": 28,
      "metadata": {
        "id": "xjOhv5DTQ-ee"
      },
      "outputs": [],
      "source": [
        "## @title Librerias importantes\n",
        "import torch\n",
        "from torch import nn\n",
        "import matplotlib.pyplot as plt\n",
        "import torchvision\n",
        "from torchvision import datasets\n",
        "from torchvision import transforms\n",
        "from torchvision.transforms import ToTensor\n",
        "from torch.utils.data import DataLoader"
      ]
    },
    {
      "cell_type": "code",
      "execution_count": 29,
      "metadata": {
        "id": "v1BknNLjXNPy"
      },
      "outputs": [],
      "source": [
        "## @title Primer Modelo\n",
        "import torch.nn as nn\n",
        "\n",
        "class ModelCV(nn.Module):\n",
        "    def __init__(self, input_shape: int, hidden_units: int, output_shape: int):\n",
        "        super().__init__()\n",
        "\n",
        "        self.flatten = nn.Flatten()\n",
        "        self.fc1 = nn.Linear(in_features=input_shape, out_features=hidden_units)\n",
        "        self.relu = nn.ReLU() # Funcion de activacion\n",
        "        self.fc2 = nn.Linear(in_features=hidden_units, out_features=output_shape)\n",
        "\n",
        "    def forward(self, x):\n",
        "        # x = self.flatten(x)\n",
        "        # x = self.fc1(x)\n",
        "        # x = self.fc2(x)\n",
        "        # return x\n",
        "        return self.fc2(self.relu(self.fc1(self.flatten(x))))"
      ]
    },
    {
      "cell_type": "code",
      "execution_count": 30,
      "metadata": {
        "colab": {
          "base_uri": "https://localhost:8080/"
        },
        "id": "lTLYmA0_Xt0W",
        "outputId": "3310ad8e-c5f1-41ed-ca75-b5014c4e779d"
      },
      "outputs": [
        {
          "output_type": "execute_result",
          "data": {
            "text/plain": [
              "ModelCV(\n",
              "  (flatten): Flatten(start_dim=1, end_dim=-1)\n",
              "  (fc1): Linear(in_features=1, out_features=10, bias=True)\n",
              "  (relu): ReLU()\n",
              "  (fc2): Linear(in_features=10, out_features=1, bias=True)\n",
              ")"
            ]
          },
          "metadata": {},
          "execution_count": 30
        }
      ],
      "source": [
        "model = ModelCV(input_shape=1, hidden_units=10, output_shape=1)\n",
        "# model.state_dict()\n",
        "model"
      ]
    },
    {
      "cell_type": "markdown",
      "metadata": {
        "id": "HvZqyhGGYpIy"
      },
      "source": [
        "# 🎛️ Capas Convolucionales (Convolutional Layers)\n",
        "\n",
        "🛠️ **Parámetros clave:**  \n",
        "- 🏗️ **Tamaño del kernel:** Define la región de la imagen que analiza cada filtro.  \n",
        "- ⚙️ **Stride (desplazamiento):** Determina cuánto se mueve el filtro en cada paso.  \n",
        "- 🔲 **Padding:** Agrega píxeles alrededor de la imagen para mantener su tamaño.\n",
        "\n",
        "https://poloclub.github.io/cnn-explainer/"
      ]
    },
    {
      "cell_type": "code",
      "execution_count": 31,
      "metadata": {
        "id": "wE8faji6YoZ1"
      },
      "outputs": [],
      "source": [
        "# Cambia las partes que digan \"FIXME\"\n",
        "class ModelCV2(nn.Module):\n",
        "  def __init__(self, input_shape: int, hidden_units: int, output_shape: int):\n",
        "    super().__init__()\n",
        "    self.conv1 = nn.Conv2d(in_channels=input_shape, out_channels=hidden_units, kernel_size=3, stride=1, padding=0)\n",
        "    self.relu1 = nn.ReLU() # cambialo si quieres\n",
        "    self.flatten = nn.Flatten()\n",
        "    self.fc1 = nn.Linear(in_features=26*26*hidden_units, out_features=hidden_units)\n",
        "    self.relu2 = nn.ReLU()\n",
        "    self.fc2 = nn.Linear(in_features=hidden_units, out_features=output_shape)\n",
        "\n",
        "  def forward(self, x):\n",
        "    return self.fc2(self.relu2(self.fc1(self.flatten(self.relu1(self.conv1(x))))))"
      ]
    },
    {
      "cell_type": "markdown",
      "metadata": {
        "id": "gN9jjMI5BlOG"
      },
      "source": [
        "## 📂 Obteniendo un Dataset  \n",
        "\n",
        "El dataset que utilizaremos es **Fashion MNIST**, proveniente de `torchvision.datasets`.  \n",
        "\n",
        "🛍️ **Fashion MNIST** es una colección de imágenes en escala de grises que representa diferentes categorías de ropa y accesorios. Es una alternativa moderna al clásico **MNIST** de dígitos escritos a mano.  \n",
        "\n",
        "📌 **Fuente:** `torchvision.datasets`  \n"
      ]
    },
    {
      "cell_type": "code",
      "execution_count": 32,
      "metadata": {
        "id": "M2CHxsV6Bi__"
      },
      "outputs": [],
      "source": [
        "#Training y Testing Data\n",
        "train_data = datasets.FashionMNIST(root = \"data\",\n",
        "                                   train=True, # train dataset\n",
        "                                   download = True,\n",
        "                                   transform = ToTensor(), # posibles transformaciones\n",
        "                                   target_transform=None\n",
        "                                   )\n",
        "\n",
        "test_data = datasets.FashionMNIST(root=\"data\",\n",
        "                                  train=False,\n",
        "                                  download=True,\n",
        "                                  transform=ToTensor(),\n",
        "                                  target_transform=None\n",
        "                                  )"
      ]
    },
    {
      "cell_type": "code",
      "execution_count": 6,
      "metadata": {
        "colab": {
          "base_uri": "https://localhost:8080/"
        },
        "id": "uDicEdtPB5-a",
        "outputId": "4e1496d7-f717-4ac5-c2d0-fe52bbf60560"
      },
      "outputs": [
        {
          "output_type": "execute_result",
          "data": {
            "text/plain": [
              "['T-shirt/top',\n",
              " 'Trouser',\n",
              " 'Pullover',\n",
              " 'Dress',\n",
              " 'Coat',\n",
              " 'Sandal',\n",
              " 'Shirt',\n",
              " 'Sneaker',\n",
              " 'Bag',\n",
              " 'Ankle boot']"
            ]
          },
          "metadata": {},
          "execution_count": 6
        }
      ],
      "source": [
        "class_names = train_data.classes\n",
        "class_names"
      ]
    },
    {
      "cell_type": "code",
      "execution_count": 33,
      "metadata": {
        "colab": {
          "base_uri": "https://localhost:8080/",
          "height": 446
        },
        "id": "nTbRcga1B753",
        "outputId": "15ecaa4c-4d95-450c-b199-08078c205753"
      },
      "outputs": [
        {
          "output_type": "stream",
          "name": "stdout",
          "text": [
            "image shape: torch.Size([1, 28, 28])\n"
          ]
        },
        {
          "output_type": "display_data",
          "data": {
            "text/plain": [
              "<Figure size 640x480 with 1 Axes>"
            ],
            "image/png": "[encoded data removed]"
          },
          "metadata": {}
        }
      ],
      "source": [
        "image, label = train_data[7] # Visualizacion\n",
        "print(f\"image shape: {image.shape}\") # dimension de una imagen\n",
        "plt.imshow(image.squeeze())\n",
        "plt.title(class_names[label])\n",
        "plt.axis(\"off\")\n",
        "plt.show()"
      ]
    },
    {
      "cell_type": "markdown",
      "metadata": {
        "id": "cvr5u1IjJ34_"
      },
      "source": [
        "### 👀 Visualización del Dataset  \n",
        "\n",
        "Para entender mejor los datos, vamos a visualizar algunas imágenes del **Fashion MNIST**.  \n",
        "\n",
        "🎨 Vamos a graficar algunas muestras para observar su apariencia y distribución.  \n"
      ]
    },
    {
      "cell_type": "code",
      "execution_count": 34,
      "metadata": {
        "colab": {
          "base_uri": "https://localhost:8080/",
          "height": 752
        },
        "id": "nvvHxcVKCPLS",
        "outputId": "b0c66bac-38b8-4db9-a7dc-61a8f851d656"
      },
      "outputs": [
        {
          "output_type": "display_data",
          "data": {
            "text/plain": [
              "<Figure size 900x900 with 9 Axes>"
            ],
            "image/png": "[encoded data removed]"
          },
          "metadata": {}
        }
      ],
      "source": [
        "#VISUALIZE VISUALIZE VISUALIZE\n",
        "torch.manual_seed(42)\n",
        "\n",
        "fig = plt.figure(figsize=(9,9))\n",
        "rows, cols = 3, 3 # cuantas imagenes quieras ver...\n",
        "for i in range(1, rows*cols+1):\n",
        "  random_idx = torch.randint(0, len(train_data), size=[1]).item()\n",
        "  img, label = train_data[random_idx]\n",
        "  fig.add_subplot(rows, cols, i)\n",
        "  plt.imshow(img.squeeze(), cmap=\"gray\")\n",
        "  plt.title(class_names[label])\n",
        "  plt.axis(False)"
      ]
    },
    {
      "cell_type": "code",
      "execution_count": 35,
      "metadata": {
        "colab": {
          "base_uri": "https://localhost:8080/"
        },
        "id": "dsL9t4L-CZwk",
        "outputId": "2f32643c-f80d-4bec-eabf-98030b7b877b"
      },
      "outputs": [
        {
          "output_type": "execute_result",
          "data": {
            "text/plain": [
              "(Dataset FashionMNIST\n",
              "     Number of datapoints: 60000\n",
              "     Root location: data\n",
              "     Split: Train\n",
              "     StandardTransform\n",
              " Transform: ToTensor(),\n",
              " Dataset FashionMNIST\n",
              "     Number of datapoints: 10000\n",
              "     Root location: data\n",
              "     Split: Test\n",
              "     StandardTransform\n",
              " Transform: ToTensor())"
            ]
          },
          "metadata": {},
          "execution_count": 35
        }
      ],
      "source": [
        "train_data, test_data"
      ]
    },
    {
      "cell_type": "markdown",
      "metadata": {
        "id": "MAU2uwhWMhcy"
      },
      "source": [
        "### 🚂 TrainDataloader y TestDataloader  \n",
        "\n",
        "Para entrenar y evaluar nuestro modelo, necesitamos **dataloaders** que nos ayuden a manejar los datos de manera eficiente.  \n",
        "\n",
        "🔄 **TrainDataloader**:  \n",
        "Se encarga de cargar los datos de entrenamiento en **lotes (batches)**, permitiendo el procesamiento en paralelo y la optimización del rendimiento.  \n",
        "\n",
        "🧪 **TestDataloader**:  \n",
        "Nos permite evaluar el modelo con datos de prueba para medir su precisión y rendimiento.  \n",
        "\n",
        "📌 Estos dataloaders provienen de `torch.utils.data.DataLoader`, que facilita la iteración sobre los datasets de `torchvision.datasets`.  \n"
      ]
    },
    {
      "cell_type": "code",
      "execution_count": 36,
      "metadata": {
        "colab": {
          "base_uri": "https://localhost:8080/"
        },
        "id": "ANqU18hECf_N",
        "outputId": "ac009baa-73f7-41d4-819d-6127dd3f0be6"
      },
      "outputs": [
        {
          "output_type": "execute_result",
          "data": {
            "text/plain": [
              "(<torch.utils.data.dataloader.DataLoader at 0x7faf99372fd0>,\n",
              " <torch.utils.data.dataloader.DataLoader at 0x7faf994d5e50>)"
            ]
          },
          "metadata": {},
          "execution_count": 36
        }
      ],
      "source": [
        "BATCH_SIZE = 32 # Numero de imagenes por Batch\n",
        "\n",
        "#turn datasets into iterables (batches)\n",
        "\n",
        "train_dataloader = DataLoader(dataset = train_data,\n",
        "                          batch_size = BATCH_SIZE,\n",
        "                          shuffle=True)\n",
        "test_dataloader = DataLoader(dataset = test_data,\n",
        "                         batch_size = BATCH_SIZE,\n",
        "                         shuffle = False)\n",
        "\n",
        "train_dataloader, test_dataloader"
      ]
    },
    {
      "cell_type": "code",
      "execution_count": 37,
      "metadata": {
        "colab": {
          "base_uri": "https://localhost:8080/"
        },
        "id": "ylPuFxH4ClgW",
        "outputId": "7712665b-84ae-418a-8e5e-b685cdd630ae"
      },
      "outputs": [
        {
          "output_type": "stream",
          "name": "stdout",
          "text": [
            "DataLoaders: (<torch.utils.data.dataloader.DataLoader object at 0x7faf99372fd0>, <torch.utils.data.dataloader.DataLoader object at 0x7faf99372fd0>)\n",
            "Length of train_dataloader: 1875 batches of 32...\n",
            "Length of test_dataloader: 313 batches of 32...\n"
          ]
        }
      ],
      "source": [
        "# Veamos lo que acabamos de crear\n",
        "\n",
        "print(f\"DataLoaders: {train_dataloader,train_dataloader }\")\n",
        "print(f\"Length of train_dataloader: {len(train_dataloader)} batches of {BATCH_SIZE}...\")\n",
        "print(f\"Length of test_dataloader: {len(test_dataloader)} batches of {BATCH_SIZE}...\")"
      ]
    },
    {
      "cell_type": "code",
      "execution_count": 38,
      "metadata": {
        "colab": {
          "base_uri": "https://localhost:8080/"
        },
        "id": "a8a4WqNUCpMf",
        "outputId": "84e89f64-4a36-4ae8-87f0-fe680d00f8ee"
      },
      "outputs": [
        {
          "output_type": "execute_result",
          "data": {
            "text/plain": [
              "(torch.Size([32, 1, 28, 28]), torch.Size([32]))"
            ]
          },
          "metadata": {},
          "execution_count": 38
        }
      ],
      "source": [
        "# veamos que hay dentro del traindataloader\n",
        "train_features_batch, train_labels_batch = next(iter(train_dataloader))\n",
        "train_features_batch.shape, train_labels_batch.shape"
      ]
    },
    {
      "cell_type": "code",
      "execution_count": 39,
      "metadata": {
        "id": "-onsQVbSrdsc"
      },
      "outputs": [],
      "source": [
        "# img_prueba = torch.rand(size=(32,1,28,28))\n",
        "# print(img_prueba.shape)\n",
        "# labels_len = len(class_names)\n",
        "# model = ModelCV2(input_shape=1, hidden_units=64, output_shape=labels_len)\n",
        "# salida = model(img_prueba)"
      ]
    },
    {
      "cell_type": "code",
      "execution_count": 40,
      "metadata": {
        "id": "psdl-jBTrehK",
        "outputId": "9c800583-15e2-4264-ad96-062fa5988c38",
        "colab": {
          "base_uri": "https://localhost:8080/"
        }
      },
      "outputs": [
        {
          "output_type": "execute_result",
          "data": {
            "text/plain": [
              "ModelCV2(\n",
              "  (conv1): Conv2d(1, 64, kernel_size=(3, 3), stride=(1, 1))\n",
              "  (relu1): ReLU()\n",
              "  (flatten): Flatten(start_dim=1, end_dim=-1)\n",
              "  (fc1): Linear(in_features=43264, out_features=64, bias=True)\n",
              "  (relu2): ReLU()\n",
              "  (fc2): Linear(in_features=64, out_features=10, bias=True)\n",
              ")"
            ]
          },
          "metadata": {},
          "execution_count": 40
        }
      ],
      "source": [
        "model = ModelCV2(input_shape=1, hidden_units=64, output_shape=len(class_names))\n",
        "model"
      ]
    },
    {
      "cell_type": "markdown",
      "metadata": {
        "id": "vVZgfogoMs2z"
      },
      "source": [
        "## 🎯 Elección de la Función de Pérdida y el Optimizador  \n",
        "\n",
        "Para entrenar nuestra red neuronal, necesitamos definir:\n",
        "\n",
        "📌 En PyTorch, podemos encontrar múltiples opciones en `torch.nn` (para la pérdida) y `torch.optim` (para el optimizador).  "
      ]
    },
    {
      "cell_type": "code",
      "execution_count": 41,
      "metadata": {
        "id": "z7zvzwyErjO3"
      },
      "outputs": [],
      "source": [
        "loss_fn = nn.CrossEntropyLoss()\n",
        "optimizer = torch.optim.SGD(params = model.parameters(), lr = 0.1)"
      ]
    },
    {
      "cell_type": "code",
      "execution_count": 42,
      "metadata": {
        "id": "Ozgtwf7BvjoU",
        "outputId": "4ff820c8-2bf5-46cb-93fa-c417aa9a83bd",
        "colab": {
          "base_uri": "https://localhost:8080/",
          "height": 36
        }
      },
      "outputs": [
        {
          "output_type": "execute_result",
          "data": {
            "text/plain": [
              "'cpu'"
            ],
            "application/vnd.google.colaboratory.intrinsic+json": {
              "type": "string"
            }
          },
          "metadata": {},
          "execution_count": 42
        }
      ],
      "source": [
        "# Agnostic Code\n",
        "device = \"cuda\" if torch.cuda.is_available() else \"cpu\"\n",
        "device"
      ]
    },
    {
      "cell_type": "code",
      "execution_count": 43,
      "metadata": {
        "id": "q_eGeCfPviJs"
      },
      "outputs": [],
      "source": [
        "# NO modifiques esta celda ♥\n",
        "def accuracy_fn(y_true, y_pred):\n",
        "  correct = torch.eq(y_true, y_pred).sum().item()\n",
        "  acc = (correct/len(y_pred)) * 100\n",
        "  return acc"
      ]
    },
    {
      "cell_type": "markdown",
      "metadata": {
        "id": "C9TLWnjcNC_L"
      },
      "source": [
        "# 🚀 Entrenamiento del Modelo  \n",
        "\n",
        "Ahora entrenaremos nuestra red neuronal para que aprenda a clasificar las imágenes del dataset.  \n",
        "\n",
        "🔄 **Proceso de entrenamiento:**  \n",
        "1️⃣ Se envían imágenes al modelo.  \n",
        "2️⃣ El modelo realiza predicciones.  \n",
        "3️⃣ Se calcula la **pérdida (loss)** comparando predicciones con etiquetas reales.  \n",
        "4️⃣ Se ajustan los pesos con el **optimizador**.  \n",
        "5️⃣ Se repite el proceso en varias **épocas (epochs)** hasta mejorar el desempeño.  \n"
      ]
    },
    {
      "cell_type": "code",
      "execution_count": 44,
      "metadata": {
        "id": "x7SmLESZtObr",
        "outputId": "9844758b-afea-4991-f97c-5b8468584063",
        "colab": {
          "base_uri": "https://localhost:8080/",
          "height": 67,
          "referenced_widgets": [
            "d94a166d14e2449780ef33e7ec3e2f91",
            "8801dc76223347e79f652ee04141c402",
            "41f9f99a48ae4eb9959b9a923ff6e9e5",
            "b549ed39e224417485103f105795825a",
            "77f4d242d6454cafb8e51a9e4529ed4d",
            "d9507239e3414c24b3a08c51f60d5c64",
            "42a71b81fef34c3c8041812c73716dfc",
            "541430871ed74f769c40ce63a41f5fee",
            "f65fc8a410aa4951912aaf2f21cfd701",
            "e3ebe9f1cc0f49608938eabc62b7018a",
            "218209664f424a4689159199e8f668d2"
          ]
        }
      },
      "outputs": [
        {
          "output_type": "display_data",
          "data": {
            "text/plain": [
              "  0%|          | 0/1 [00:00<?, ?it/s]"
            ],
            "application/vnd.jupyter.widget-view+json": {
              "version_major": 2,
              "version_minor": 0,
              "model_id": "d94a166d14e2449780ef33e7ec3e2f91"
            }
          },
          "metadata": {}
        },
        {
          "output_type": "stream",
          "name": "stdout",
          "text": [
            "epoch: 0 | Train loss: 0.49852, train acc: 81.53 | Test loss: 0.37116, test acc: 86.65\n"
          ]
        }
      ],
      "source": [
        "from tqdm.auto import tqdm\n",
        "torch.manual_seed(42)\n",
        "epochs = 1\n",
        "\n",
        "for epoch in tqdm(range(epochs)):\n",
        "  train_loss = 0\n",
        "  train_acc = 0\n",
        "  for batch, (X_train, y_train) in enumerate(train_dataloader):\n",
        "\n",
        "    model.train()\n",
        "    X_train, y_train = X_train.to(device), y_train.to(device)\n",
        "    y_train_logits = model(X_train)\n",
        "    #forward pass\n",
        "\n",
        "    # calculamos la funcion de perdida\n",
        "    loss = loss_fn(y_train_logits, y_train)\n",
        "    train_loss += loss\n",
        "    train_acc += accuracy_fn(y_true = y_train, y_pred = y_train_logits.argmax(dim=1))\n",
        "    # optimizer zero grad\n",
        "    optimizer.zero_grad()\n",
        "    # retropropagacion\n",
        "    loss.backward()\n",
        "    # optimizer step step step\n",
        "    optimizer.step()\n",
        "  train_loss /= len(train_dataloader)\n",
        "  train_acc /= len(train_dataloader)\n",
        "  model.eval()\n",
        "  with torch.no_grad():\n",
        "    test_loss = 0\n",
        "    test_acc = 0\n",
        "    for X_test, y_test in test_dataloader:\n",
        "      X_test, y_test = X_test.to(device), y_test.to(device)\n",
        "      #forward pass\n",
        "      y_test_logits = model(X_test)\n",
        "      # calcular la loss\n",
        "      test_loss += loss_fn(y_test_logits, y_test)\n",
        "      test_acc += accuracy_fn(y_true = y_test, y_pred = y_test_logits.argmax(dim=1))\n",
        "    test_loss /= len(test_dataloader)\n",
        "    test_acc /= len(test_dataloader)\n",
        "  print(f\"epoch: {epoch} | Train loss: {train_loss:.5f}, train acc: {train_acc:.2f} | Test loss: {test_loss:.5f}, test acc: {test_acc:.2f}\")"
      ]
    },
    {
      "cell_type": "markdown",
      "metadata": {
        "id": "0pvwP0_2NPnx"
      },
      "source": [
        "# 📊 Evaluación del Modelo  \n",
        "\n",
        "Después del entrenamiento, es momento de evaluar el desempeño de nuestra red neuronal.  \n",
        "\n",
        "🛠️ **Proceso de evaluación:**  \n",
        "1️⃣ Se usa el **TestDataloader** para pasar imágenes de prueba al modelo.  \n",
        "2️⃣ Se comparan las predicciones con las etiquetas reales.  \n",
        "3️⃣ Se calcula la **precisión (accuracy)** y otras métricas de rendimiento.  \n",
        "\n",
        "📌 Esto nos ayuda a entender si el modelo **generaliza bien** o si necesita mejoras.  "
      ]
    },
    {
      "cell_type": "code",
      "execution_count": 45,
      "metadata": {
        "id": "EDF1QNqnvULg",
        "outputId": "9168d152-faee-4b64-e053-846816997c3a",
        "colab": {
          "base_uri": "https://localhost:8080/",
          "height": 104,
          "referenced_widgets": [
            "0fbb889573144ea09167b1e3e22d3680",
            "f4454c5839fe4363a55a5d2a1c54c2b6",
            "768117e8517d47ed986ec2d1bf650a26",
            "c8b6bbc732ec4bbb88c9440f3ba825a6",
            "ad8256e7ec3b4c77a1e9fa4e3dbe51bf",
            "29e225f8fabd4f37b1ebb1866bf50baf",
            "16697574489d4123b3d3eed5bbe31dcd",
            "4e1e078e891847aeb55f5cc365158bbf",
            "29f3138d6292451f95d30cbcdf0bc793",
            "3bcc9de38feb41208f78bad9c26c1888",
            "eead117484814684bf12a5204821866b"
          ]
        }
      },
      "outputs": [
        {
          "output_type": "display_data",
          "data": {
            "text/plain": [
              "  0%|          | 0/313 [00:00<?, ?it/s]"
            ],
            "application/vnd.jupyter.widget-view+json": {
              "version_major": 2,
              "version_minor": 0,
              "model_id": "0fbb889573144ea09167b1e3e22d3680"
            }
          },
          "metadata": {}
        },
        {
          "output_type": "execute_result",
          "data": {
            "text/plain": [
              "{'model_name': 'ModelCV2',\n",
              " 'model_loss': 0.37116196751594543,\n",
              " 'model_acc': 86.65135782747603}"
            ]
          },
          "metadata": {},
          "execution_count": 45
        }
      ],
      "source": [
        "torch.manual_seed(42)\n",
        "\n",
        "def eval_model(model:torch.nn.Module,\n",
        "               data_loader: torch.utils.data.DataLoader,\n",
        "               loss_fn: torch.nn.Module,\n",
        "               accuracy_fn):\n",
        "    \"\"\" retorna un diccionario que contiene las predicciones del modelo\"\"\"\n",
        "    loss, acc = 0, 0\n",
        "    model.eval()\n",
        "\n",
        "    with torch.no_grad():\n",
        "      for X, y in tqdm(data_loader):\n",
        "        #make predictions\n",
        "        y_pred = model(X)\n",
        "\n",
        "        # Accumulate the loss and acc values per batch\n",
        "\n",
        "        loss += loss_fn(y_pred, y)\n",
        "        acc += accuracy_fn(y_true = y, y_pred = y_pred.argmax(dim=1))\n",
        "      # scale the loss and acc to find the average loss and acc per batch\n",
        "\n",
        "      loss /= len(data_loader)\n",
        "      acc /= len(data_loader)\n",
        "    return {\"model_name\": model.__class__.__name__,\n",
        "            \"model_loss\": loss.item(),\n",
        "            \"model_acc\": acc}\n",
        "model_0_results = eval_model(model=model,\n",
        "                             data_loader = test_dataloader,\n",
        "                             loss_fn =  loss_fn,\n",
        "                             accuracy_fn=accuracy_fn)\n",
        "model_0_results"
      ]
    },
    {
      "cell_type": "markdown",
      "metadata": {
        "id": "VHMUbLLPNkpL"
      },
      "source": [
        "## 🎨 Visualización de las Predicciones del Modelo  \n",
        "\n",
        "Para entender mejor el desempeño del modelo, vamos a **visualizar algunas predicciones**.  \n",
        "\n",
        "📸 **Proceso:**  \n",
        "1️⃣ Tomamos algunas imágenes del conjunto de prueba.  \n",
        "2️⃣ El modelo genera una predicción para cada imagen.  \n",
        "3️⃣ Comparamos la predicción con la etiqueta real.  \n",
        "4️⃣ Mostramos las imágenes junto con sus etiquetas y predicciones.  \n",
        "\n",
        "📌 Esto nos permite identificar posibles **errores** y mejorar el modelo si es necesario.  \n"
      ]
    },
    {
      "cell_type": "code",
      "execution_count": 47,
      "metadata": {
        "id": "V_z3lCdjwrsV"
      },
      "outputs": [],
      "source": [
        "# NO modifiques esta celda ♥\n",
        "def make_predictions(model:torch.nn.Module,\n",
        "                     data: list,\n",
        "                     device: torch.device = device):\n",
        "  pred_probs = []\n",
        "  model.to(device)\n",
        "  model.eval()\n",
        "  with torch.no_grad():\n",
        "    for sample in data:\n",
        "      #add a bacth dimension and pass to target device\n",
        "      sample = torch.unsqueeze(sample, dim=0).to(device)\n",
        "\n",
        "      pred_logit =  model(sample)\n",
        "\n",
        "      pred_prob = torch.softmax(pred_logit.squeeze(), dim=0)\n",
        "\n",
        "      #get pred_prob off the gpu\n",
        "      pred_probs.append(pred_prob.cpu())\n",
        "\n",
        "  #stack the pred_probs to turn list into a tensor\n",
        "  return torch.stack(pred_probs)"
      ]
    },
    {
      "cell_type": "code",
      "execution_count": 48,
      "metadata": {
        "id": "69e9M5HNwzCF",
        "outputId": "152a2222-fe66-4619-e6bf-97ad8a4f1ad2",
        "colab": {
          "base_uri": "https://localhost:8080/"
        }
      },
      "outputs": [
        {
          "output_type": "execute_result",
          "data": {
            "text/plain": [
              "Dataset FashionMNIST\n",
              "    Number of datapoints: 10000\n",
              "    Root location: data\n",
              "    Split: Test\n",
              "    StandardTransform\n",
              "Transform: ToTensor()"
            ]
          },
          "metadata": {},
          "execution_count": 48
        }
      ],
      "source": [
        "test_data"
      ]
    },
    {
      "cell_type": "code",
      "execution_count": 54,
      "metadata": {
        "id": "IALu1obTwz_J",
        "outputId": "f001cbe8-3680-4ebc-e5e0-088a7b025c9f",
        "colab": {
          "base_uri": "https://localhost:8080/"
        }
      },
      "outputs": [
        {
          "output_type": "execute_result",
          "data": {
            "text/plain": [
              "torch.Size([1, 28, 28])"
            ]
          },
          "metadata": {},
          "execution_count": 54
        }
      ],
      "source": [
        "import random\n",
        "# random.seed(42)\n",
        "test_samples = []\n",
        "test_labels = []\n",
        "for sample, label in random.sample(list(test_data), k=9):\n",
        "  test_samples.append(sample)\n",
        "  test_labels.append(label)\n",
        "test_samples[0].shape"
      ]
    },
    {
      "cell_type": "code",
      "execution_count": 55,
      "metadata": {
        "id": "REXUjOm-w1Bw",
        "outputId": "3913e7c6-6270-4061-be45-ccc0724f8bba",
        "colab": {
          "base_uri": "https://localhost:8080/",
          "height": 470
        }
      },
      "outputs": [
        {
          "output_type": "execute_result",
          "data": {
            "text/plain": [
              "Text(0.5, 1.0, 'Ankle boot')"
            ]
          },
          "metadata": {},
          "execution_count": 55
        },
        {
          "output_type": "display_data",
          "data": {
            "text/plain": [
              "<Figure size 640x480 with 1 Axes>"
            ],
            "image/png": "[encoded data removed]"
          },
          "metadata": {}
        }
      ],
      "source": [
        "plt.imshow(test_samples[0].squeeze(), cmap=\"gray\")\n",
        "plt.title(class_names[test_labels[0]])"
      ]
    },
    {
      "cell_type": "code",
      "execution_count": 56,
      "metadata": {
        "id": "Z4cR3y97w1_o",
        "outputId": "333149fd-56cb-4ec8-a9df-53b47948ef2d",
        "colab": {
          "base_uri": "https://localhost:8080/"
        }
      },
      "outputs": [
        {
          "output_type": "execute_result",
          "data": {
            "text/plain": [
              "tensor([[4.2716e-04, 4.6786e-05, 3.6455e-04, 1.1472e-04, 1.7481e-04, 5.7488e-02,\n",
              "         5.1658e-04, 6.2398e-02, 6.2940e-04, 8.7784e-01],\n",
              "        [1.2357e-03, 1.5623e-05, 2.8557e-04, 8.4896e-04, 4.3051e-05, 4.5895e-04,\n",
              "         4.3262e-04, 3.5381e-05, 9.9663e-01, 1.0305e-05]])"
            ]
          },
          "metadata": {},
          "execution_count": 56
        }
      ],
      "source": [
        "# Hacemos predicciones\n",
        "pred_probs = make_predictions(model=model,\n",
        "                              data=test_samples,\n",
        "                              )\n",
        "#miremos👀\n",
        "pred_probs[:2]"
      ]
    },
    {
      "cell_type": "code",
      "execution_count": 57,
      "metadata": {
        "id": "EDSPURmHw28A",
        "outputId": "6636b6d7-e3bf-4e70-afea-5d635fccf4c2",
        "colab": {
          "base_uri": "https://localhost:8080/"
        }
      },
      "outputs": [
        {
          "output_type": "execute_result",
          "data": {
            "text/plain": [
              "(tensor([9, 8, 1, 3, 2, 7, 8, 6, 6]), [9, 8, 3, 3, 2, 7, 8, 6, 6])"
            ]
          },
          "metadata": {},
          "execution_count": 57
        }
      ],
      "source": [
        "# convertimos las probabilidades a clases\n",
        "pred_class = pred_probs.argmax(dim=1)\n",
        "pred_class, test_labels"
      ]
    },
    {
      "cell_type": "code",
      "execution_count": 101,
      "metadata": {
        "id": "mWnA0nzvw4Yh",
        "outputId": "fd8cd4ac-2db7-47a1-f4ba-0a84f627ab5f",
        "colab": {
          "base_uri": "https://localhost:8080/",
          "height": 749
        }
      },
      "outputs": [
        {
          "output_type": "display_data",
          "data": {
            "text/plain": [
              "<Figure size 900x900 with 9 Axes>"
            ],
            "image/png": "[encoded data removed]"
          },
          "metadata": {}
        }
      ],
      "source": [
        "# NO modifiques esta celda ♥\n",
        "plt.figure(figsize=(9,9))\n",
        "nrows = 3\n",
        "ncols = 3\n",
        "for i, sample in enumerate(test_samples):\n",
        "  plt.subplot(nrows, ncols, i+1)\n",
        "\n",
        "  #plot the target image\n",
        "  plt.imshow(sample.squeeze(), cmap = \"gray\")\n",
        "\n",
        "  #find the prediction label\n",
        "  pred_label = class_names[pred_class[i]]\n",
        "\n",
        "  #get the truth label\n",
        "  truth_label = class_names[test_labels[i]]\n",
        "\n",
        "  #create a tittle for the plot\n",
        "  tittle_text = f\"pred: {pred_label} | Truth: {truth_label}\"\n",
        "  if pred_label == truth_label:\n",
        "    plt.title(tittle_text, fontsize=10,c=\"g\")\n",
        "  else:\n",
        "    plt.title(tittle_text, fontsize=10,c=\"r\")\n",
        "  plt.axis(False)"
      ]
    },
    {
      "cell_type": "markdown",
      "metadata": {
        "id": "zFYUIlLKJ-Ac"
      },
      "source": [
        "## 🏗️ Implementación de TinyVGG  \n",
        "\n",
        "Vamos a construir **TinyVGG**, una versión simplificada de **VGGNet**, ideal para tareas de clasificación de imágenes.  \n",
        "\n",
        "⚙️ **Arquitectura de TinyVGG:**  \n",
        "🔹 Capas convolucionales (`Conv2d`) para extraer características.  \n",
        "🔹 Función de activación **ReLU** para introducir no linealidad.  \n",
        "🔹 Capas de **MaxPooling** para reducir la dimensionalidad.  \n",
        "🔹 Capas totalmente conectadas (`Linear`) para clasificar.  \n"
      ]
    },
    {
      "cell_type": "code",
      "execution_count": 109,
      "metadata": {
        "id": "Q_bRWVsrCzVI"
      },
      "outputs": [],
      "source": [
        "#Test yourself try to replicate tinyvgg -> https://poloclub.github.io/cnn-explainer/\n",
        "class FashionMNISTModelV2(nn.Module):\n",
        "  def __init__(self, input_shape, hidden_units, output_shape):\n",
        "    super().__init__()\n",
        "    \"\"\"\n",
        "    Model Architecture that replicates the TinyVGG\n",
        "    model from CNN explainer website\n",
        "    \"\"\"\n",
        "    self.conv_blocl_1 = nn.Sequential(\n",
        "        nn.Conv2d(in_channels=input_shape, out_channels=hidden_units, kernel_size=3, stride=1, padding=0),\n",
        "        nn.ReLU(),\n",
        "    )\n",
        "    self.conv_blocl_2 = nn.Sequential(\n",
        "        nn.Conv2d(in_channels=hidden_units, out_channels=hidden_units, kernel_size=3, stride=1, padding=0),\n",
        "        nn.ReLU(),\n",
        "        nn.MaxPool2d(kernel_size=2, stride=2)\n",
        "\n",
        "    )\n",
        "    self.classifier = nn.Sequential(\n",
        "          nn.Flatten(),\n",
        "          nn.Linear(in_features=hidden_units*13*13, out_features=output_shape)\n",
        "    )\n",
        "\n",
        "  def forward(self,x):\n",
        "    x = self.conv_blocl_1(x)\n",
        "    # print(x.shape)\n",
        "    x = self.conv_blocl_2(x)\n",
        "    # print(x.shape)\n",
        "    x = self.classifier(x)\n",
        "    # print(x.shape)\n",
        "    return x"
      ]
    },
    {
      "cell_type": "code",
      "execution_count": 104,
      "metadata": {
        "colab": {
          "base_uri": "https://localhost:8080/"
        },
        "id": "OzYXghxfC1n1",
        "outputId": "bdb4a2aa-8f70-48f9-841c-3e53f318cf05"
      },
      "outputs": [
        {
          "output_type": "execute_result",
          "data": {
            "text/plain": [
              "torch.Size([1, 28, 28])"
            ]
          },
          "metadata": {},
          "execution_count": 104
        }
      ],
      "source": [
        "image.shape"
      ]
    },
    {
      "cell_type": "code",
      "execution_count": 105,
      "metadata": {
        "colab": {
          "base_uri": "https://localhost:8080/",
          "height": 36
        },
        "id": "eNCoeHw4C8a5",
        "outputId": "0a17f129-96d0-488e-abcf-acdffa21a478"
      },
      "outputs": [
        {
          "output_type": "execute_result",
          "data": {
            "text/plain": [
              "'cpu'"
            ],
            "application/vnd.google.colaboratory.intrinsic+json": {
              "type": "string"
            }
          },
          "metadata": {},
          "execution_count": 105
        }
      ],
      "source": [
        "device = \"cuda\" if torch.cuda.is_available() else \"cpu\"\n",
        "device"
      ]
    },
    {
      "cell_type": "code",
      "execution_count": 106,
      "metadata": {
        "id": "TMTKkcHHC6cy",
        "outputId": "43b7e829-cb66-4565-92f5-d71ba0c3cbd0",
        "colab": {
          "base_uri": "https://localhost:8080/"
        }
      },
      "outputs": [
        {
          "output_type": "execute_result",
          "data": {
            "text/plain": [
              "OrderedDict([('conv_blocl_1.0.weight',\n",
              "              tensor([[[[ 0.2548,  0.2767, -0.0781],\n",
              "                        [ 0.3062, -0.0730,  0.0673],\n",
              "                        [-0.1623,  0.1958,  0.2938]]],\n",
              "              \n",
              "              \n",
              "                      [[[-0.2445,  0.2897,  0.0624],\n",
              "                        [ 0.2463,  0.0451,  0.1607],\n",
              "                        [-0.0471,  0.2570,  0.0493]]],\n",
              "              \n",
              "              \n",
              "                      [[[-0.1556,  0.0850, -0.1536],\n",
              "                        [-0.0391, -0.1354,  0.2211],\n",
              "                        [-0.2631, -0.1537, -0.0941]]],\n",
              "              \n",
              "              \n",
              "                      [[[-0.2004,  0.0315, -0.3292],\n",
              "                        [ 0.3010, -0.2832,  0.2573],\n",
              "                        [ 0.0555, -0.1082,  0.2060]]],\n",
              "              \n",
              "              \n",
              "                      [[[ 0.0520,  0.2693,  0.0364],\n",
              "                        [-0.1051,  0.0896, -0.0904],\n",
              "                        [ 0.1403,  0.2976,  0.1927]]],\n",
              "              \n",
              "              \n",
              "                      [[[-0.1457,  0.1924,  0.0596],\n",
              "                        [ 0.1693, -0.2032, -0.3300],\n",
              "                        [-0.1288, -0.2557,  0.2735]]],\n",
              "              \n",
              "              \n",
              "                      [[[ 0.0960,  0.1381,  0.1054],\n",
              "                        [-0.0058,  0.2609, -0.2368],\n",
              "                        [ 0.0210, -0.2275,  0.1028]]],\n",
              "              \n",
              "              \n",
              "                      [[[-0.1148,  0.1021, -0.0694],\n",
              "                        [ 0.2765, -0.1976, -0.1988],\n",
              "                        [-0.1988,  0.2998,  0.1111]]],\n",
              "              \n",
              "              \n",
              "                      [[[ 0.3208, -0.2751, -0.3306],\n",
              "                        [-0.2608, -0.2242,  0.1350],\n",
              "                        [ 0.1194,  0.2770, -0.1721]]],\n",
              "              \n",
              "              \n",
              "                      [[[-0.2272,  0.1769, -0.1347],\n",
              "                        [ 0.2023, -0.0791,  0.1907],\n",
              "                        [-0.2590, -0.1682,  0.1016]]]])),\n",
              "             ('conv_blocl_1.0.bias',\n",
              "              tensor([ 0.0705, -0.0850,  0.1987,  0.2266, -0.2417, -0.1780,  0.3052, -0.1125,\n",
              "                      -0.1182, -0.3225])),\n",
              "             ('conv_blocl_2.0.weight',\n",
              "              tensor([[[[-0.0604,  0.0263, -0.0139],\n",
              "                        [-0.0765,  0.0025, -0.0720],\n",
              "                        [-0.0894, -0.0580, -0.0923]],\n",
              "              \n",
              "                       [[-0.0671,  0.1054,  0.0199],\n",
              "                        [ 0.0325, -0.0983, -0.0692],\n",
              "                        [-0.0351,  0.0165, -0.0928]],\n",
              "              \n",
              "                       [[-0.0454, -0.0631,  0.0003],\n",
              "                        [-0.0392, -0.0073, -0.0714],\n",
              "                        [-0.0724, -0.0615, -0.0361]],\n",
              "              \n",
              "                       [[-0.0832,  0.0884, -0.0209],\n",
              "                        [ 0.0907,  0.0328, -0.0893],\n",
              "                        [ 0.0729, -0.0290, -0.0404]],\n",
              "              \n",
              "                       [[-0.0875, -0.1048,  0.0302],\n",
              "                        [-0.0230,  0.0410, -0.0865],\n",
              "                        [ 0.0783, -0.0774, -0.0182]],\n",
              "              \n",
              "                       [[ 0.0220,  0.0544,  0.0851],\n",
              "                        [ 0.0960, -0.0836,  0.0265],\n",
              "                        [-0.0453, -0.0116, -0.0789]],\n",
              "              \n",
              "                       [[ 0.0960, -0.0774,  0.0563],\n",
              "                        [ 0.0370,  0.0343, -0.0570],\n",
              "                        [ 0.0958,  0.0232,  0.0136]],\n",
              "              \n",
              "                       [[-0.0929,  0.0442, -0.0158],\n",
              "                        [-0.0483,  0.0905,  0.0235],\n",
              "                        [-0.0583, -0.0534, -0.0050]],\n",
              "              \n",
              "                       [[ 0.0589, -0.0269, -0.0601],\n",
              "                        [-0.0361, -0.0787,  0.0376],\n",
              "                        [ 0.0816, -0.0992,  0.0245]],\n",
              "              \n",
              "                       [[ 0.0545,  0.0191, -0.0375],\n",
              "                        [ 0.0550,  0.0554,  0.0394],\n",
              "                        [-0.0185, -0.0279,  0.0113]]],\n",
              "              \n",
              "              \n",
              "                      [[[-0.0186, -0.0314,  0.0674],\n",
              "                        [ 0.0906, -0.0104, -0.0236],\n",
              "                        [ 0.0015, -0.0063,  0.0253]],\n",
              "              \n",
              "                       [[ 0.0295, -0.0957, -0.0389],\n",
              "                        [ 0.0888,  0.0411, -0.0052],\n",
              "                        [-0.0636, -0.0645, -0.0944]],\n",
              "              \n",
              "                       [[-0.0344,  0.0356,  0.0672],\n",
              "                        [ 0.0487, -0.0932, -0.0634],\n",
              "                        [-0.0166,  0.1020,  0.0152]],\n",
              "              \n",
              "                       [[-0.0273,  0.0436, -0.0401],\n",
              "                        [-0.0682,  0.0769, -0.0479],\n",
              "                        [-0.0211, -0.1049,  0.0705]],\n",
              "              \n",
              "                       [[ 0.0799,  0.0384, -0.0735],\n",
              "                        [-0.1040, -0.0856,  0.0786],\n",
              "                        [ 0.0506,  0.0887,  0.0552]],\n",
              "              \n",
              "                       [[ 0.0267, -0.0010, -0.0802],\n",
              "                        [-0.0903, -0.0986,  0.0432],\n",
              "                        [-0.0518, -0.0212, -0.0607]],\n",
              "              \n",
              "                       [[-0.0192, -0.0742, -0.0689],\n",
              "                        [ 0.0350, -0.0313,  0.0651],\n",
              "                        [-0.0338, -0.0773, -0.0186]],\n",
              "              \n",
              "                       [[-0.0511, -0.0322, -0.1003],\n",
              "                        [ 0.0590, -0.0734,  0.0530],\n",
              "                        [ 0.0478,  0.0753, -0.0809]],\n",
              "              \n",
              "                       [[ 0.0758, -0.0498,  0.0391],\n",
              "                        [ 0.0990, -0.0149, -0.0008],\n",
              "                        [-0.0243, -0.0880,  0.0506]],\n",
              "              \n",
              "                       [[-0.1046,  0.0654,  0.0789],\n",
              "                        [ 0.0997, -0.0249, -0.0866],\n",
              "                        [ 0.0237,  0.0582, -0.1049]]],\n",
              "              \n",
              "              \n",
              "                      [[[-0.0239, -0.0632, -0.0092],\n",
              "                        [-0.0519, -0.0431, -0.0335],\n",
              "                        [-0.1002,  0.0865,  0.0884]],\n",
              "              \n",
              "                       [[-0.0165, -0.0120, -0.0430],\n",
              "                        [-0.0952, -0.1026,  0.0392],\n",
              "                        [-0.0579, -0.0678, -0.0082]],\n",
              "              \n",
              "                       [[-0.0351, -0.0341,  0.0034],\n",
              "                        [-0.0224, -0.0363, -0.0505],\n",
              "                        [-0.0858,  0.0884, -0.0422]],\n",
              "              \n",
              "                       [[ 0.0279, -0.0366,  0.0086],\n",
              "                        [ 0.0983,  0.0486, -0.0913],\n",
              "                        [ 0.0418,  0.1001,  0.0277]],\n",
              "              \n",
              "                       [[ 0.0707,  0.1039, -0.0162],\n",
              "                        [ 0.0219, -0.0733, -0.0217],\n",
              "                        [ 0.0781,  0.0540, -0.0667]],\n",
              "              \n",
              "                       [[-0.0845, -0.0720, -0.1040],\n",
              "                        [-0.0813, -0.0261,  0.0711],\n",
              "                        [ 0.0176, -0.0802, -0.0846]],\n",
              "              \n",
              "                       [[ 0.0524, -0.0784, -0.0130],\n",
              "                        [ 0.0506, -0.0488, -0.0115],\n",
              "                        [-0.0092, -0.0249, -0.0534]],\n",
              "              \n",
              "                       [[-0.0940, -0.0852, -0.0564],\n",
              "                        [ 0.1018, -0.0509, -0.0708],\n",
              "                        [ 0.0256,  0.0291,  0.0578]],\n",
              "              \n",
              "                       [[ 0.0801,  0.0587, -0.1045],\n",
              "                        [ 0.0093,  0.0639, -0.0097],\n",
              "                        [-0.0621,  0.1005, -0.0394]],\n",
              "              \n",
              "                       [[-0.0600, -0.0950,  0.0047],\n",
              "                        [ 0.0467,  0.0233,  0.0208],\n",
              "                        [-0.0799, -0.0984,  0.0019]]],\n",
              "              \n",
              "              \n",
              "                      [[[ 0.0961,  0.0608, -0.0614],\n",
              "                        [-0.0137, -0.0777, -0.0509],\n",
              "                        [ 0.0191,  0.0574,  0.0873]],\n",
              "              \n",
              "                       [[-0.0968,  0.0705, -0.0743],\n",
              "                        [ 0.0395,  0.0892,  0.0015],\n",
              "                        [ 0.0959, -0.0898, -0.0403]],\n",
              "              \n",
              "                       [[ 0.0615, -0.0230, -0.0216],\n",
              "                        [-0.0439,  0.0727,  0.0517],\n",
              "                        [ 0.0338, -0.0592, -0.0856]],\n",
              "              \n",
              "                       [[ 0.0114,  0.0312, -0.0487],\n",
              "                        [-0.0295,  0.0712,  0.0084],\n",
              "                        [ 0.0048, -0.0259, -0.0955]],\n",
              "              \n",
              "                       [[-0.0991, -0.0504, -0.0536],\n",
              "                        [ 0.0328, -0.0307, -0.0412],\n",
              "                        [ 0.1005,  0.0367,  0.0751]],\n",
              "              \n",
              "                       [[-0.0510, -0.0431,  0.0387],\n",
              "                        [-0.0702, -0.0689, -0.0051],\n",
              "                        [-0.0386, -0.0790,  0.0625]],\n",
              "              \n",
              "                       [[ 0.0848,  0.0171, -0.0184],\n",
              "                        [-0.0976, -0.0384,  0.0268],\n",
              "                        [ 0.0497, -0.0133, -0.0417]],\n",
              "              \n",
              "                       [[ 0.0587, -0.0839,  0.0666],\n",
              "                        [-0.0409,  0.0016, -0.0208],\n",
              "                        [ 0.0128, -0.0319,  0.0766]],\n",
              "              \n",
              "                       [[-0.0027,  0.0823,  0.1013],\n",
              "                        [-0.0514, -0.0769,  0.0846],\n",
              "                        [ 0.0826, -0.0805, -0.0081]],\n",
              "              \n",
              "                       [[-0.1039, -0.0863,  0.0204],\n",
              "                        [ 0.0280,  0.0223, -0.0287],\n",
              "                        [ 0.0972,  0.0151, -0.0622]]],\n",
              "              \n",
              "              \n",
              "                      [[[-0.0060,  0.0253,  0.0369],\n",
              "                        [-0.0745,  0.0395, -0.0539],\n",
              "                        [-0.0876, -0.0576,  0.1017]],\n",
              "              \n",
              "                       [[ 0.0901,  0.0944,  0.0619],\n",
              "                        [ 0.0796, -0.0141, -0.0580],\n",
              "                        [ 0.0527, -0.0546, -0.0711]],\n",
              "              \n",
              "                       [[-0.0337,  0.0221,  0.0543],\n",
              "                        [-0.0409, -0.0620,  0.0142],\n",
              "                        [-0.0621, -0.0686,  0.0549]],\n",
              "              \n",
              "                       [[-0.0177,  0.0963,  0.1025],\n",
              "                        [ 0.0315,  0.0363,  0.0243],\n",
              "                        [ 0.0017, -0.0077,  0.0014]],\n",
              "              \n",
              "                       [[ 0.0394,  0.0980, -0.0273],\n",
              "                        [-0.0446, -0.0255, -0.0509],\n",
              "                        [ 0.0179,  0.0787,  0.0824]],\n",
              "              \n",
              "                       [[ 0.0484, -0.0776, -0.0566],\n",
              "                        [-0.0232, -0.0194,  0.0087],\n",
              "                        [-0.0968,  0.0328, -0.0804]],\n",
              "              \n",
              "                       [[-0.0667, -0.0876,  0.0918],\n",
              "                        [-0.0998,  0.0795, -0.0035],\n",
              "                        [-0.0123,  0.0659, -0.0097]],\n",
              "              \n",
              "                       [[ 0.0661,  0.0762, -0.0915],\n",
              "                        [ 0.0406,  0.0199,  0.0227],\n",
              "                        [ 0.0154,  0.0288, -0.0507]],\n",
              "              \n",
              "                       [[-0.0135,  0.1002,  0.0708],\n",
              "                        [-0.0040, -0.0991,  0.0046],\n",
              "                        [-0.0718,  0.0857, -0.0640]],\n",
              "              \n",
              "                       [[-0.0076, -0.0234,  0.0188],\n",
              "                        [ 0.0992,  0.0100,  0.0610],\n",
              "                        [ 0.0818,  0.0851, -0.0364]]],\n",
              "              \n",
              "              \n",
              "                      [[[-0.0236,  0.0508, -0.0288],\n",
              "                        [ 0.0494, -0.0230, -0.0715],\n",
              "                        [ 0.0429,  0.0162,  0.0470]],\n",
              "              \n",
              "                       [[ 0.1047,  0.0720,  0.0999],\n",
              "                        [ 0.0056, -0.0907, -0.0739],\n",
              "                        [-0.0655, -0.0929, -0.0528]],\n",
              "              \n",
              "                       [[-0.0970, -0.0973, -0.0630],\n",
              "                        [-0.1039, -0.0647,  0.0402],\n",
              "                        [ 0.0879, -0.0314, -0.0307]],\n",
              "              \n",
              "                       [[ 0.0563, -0.0520, -0.0498],\n",
              "                        [ 0.0649, -0.0918,  0.0129],\n",
              "                        [ 0.0931,  0.0181,  0.0287]],\n",
              "              \n",
              "                       [[-0.0614, -0.0015,  0.0058],\n",
              "                        [ 0.0259,  0.0410,  0.0916],\n",
              "                        [-0.0805,  0.0032, -0.0527]],\n",
              "              \n",
              "                       [[-0.0834, -0.0084, -0.0928],\n",
              "                        [ 0.0736,  0.0122, -0.0568],\n",
              "                        [ 0.0551, -0.0998, -0.0408]],\n",
              "              \n",
              "                       [[-0.0205, -0.0896, -0.0670],\n",
              "                        [-0.0172,  0.0800,  0.1018],\n",
              "                        [ 0.0671, -0.0629, -0.0690]],\n",
              "              \n",
              "                       [[ 0.0920,  0.0373,  0.0028],\n",
              "                        [ 0.0143, -0.0847, -0.0352],\n",
              "                        [ 0.1015, -0.0260, -0.0053]],\n",
              "              \n",
              "                       [[-0.0875, -0.0590, -0.0022],\n",
              "                        [-0.0655, -0.0131,  0.0429],\n",
              "                        [-0.1031,  0.0313, -0.0697]],\n",
              "              \n",
              "                       [[-0.0514,  0.0405,  0.0838],\n",
              "                        [-0.0288, -0.0433, -0.0953],\n",
              "                        [-0.0544, -0.0923, -0.0241]]],\n",
              "              \n",
              "              \n",
              "                      [[[ 0.0215, -0.0988,  0.0920],\n",
              "                        [ 0.0661, -0.1032, -0.0503],\n",
              "                        [ 0.0344, -0.0217, -0.0115]],\n",
              "              \n",
              "                       [[-0.0476,  0.0847, -0.0589],\n",
              "                        [ 0.0874,  0.0068,  0.0212],\n",
              "                        [ 0.0822, -0.0174, -0.0600]],\n",
              "              \n",
              "                       [[-0.0170,  0.0855, -0.0782],\n",
              "                        [ 0.0239, -0.1036,  0.0553],\n",
              "                        [ 0.0389,  0.0045,  0.0452]],\n",
              "              \n",
              "                       [[ 0.0001,  0.0583, -0.0834],\n",
              "                        [-0.0155,  0.0468,  0.1050],\n",
              "                        [ 0.0537, -0.0767,  0.0811]],\n",
              "              \n",
              "                       [[-0.0235, -0.0225, -0.0958],\n",
              "                        [-0.0166,  0.0746,  0.0147],\n",
              "                        [-0.0614,  0.0324, -0.0338]],\n",
              "              \n",
              "                       [[ 0.0962, -0.0915, -0.0333],\n",
              "                        [-0.1018, -0.0415,  0.0332],\n",
              "                        [ 0.1015,  0.0177,  0.1033]],\n",
              "              \n",
              "                       [[ 0.0206,  0.0609,  0.0845],\n",
              "                        [ 0.0881, -0.0590,  0.0969],\n",
              "                        [ 0.0639, -0.0493, -0.0503]],\n",
              "              \n",
              "                       [[-0.0884,  0.0265, -0.0854],\n",
              "                        [ 0.0445,  0.0333, -0.0916],\n",
              "                        [ 0.0287, -0.0086,  0.0482]],\n",
              "              \n",
              "                       [[ 0.0605, -0.1048,  0.0967],\n",
              "                        [ 0.0884,  0.0419, -0.0963],\n",
              "                        [-0.0377, -0.0305, -0.0271]],\n",
              "              \n",
              "                       [[ 0.0594,  0.0383,  0.0835],\n",
              "                        [-0.0395,  0.0355,  0.0375],\n",
              "                        [-0.0878, -0.1022, -0.0547]]],\n",
              "              \n",
              "              \n",
              "                      [[[ 0.0722, -0.0992, -0.0918],\n",
              "                        [ 0.0591,  0.0569,  0.0867],\n",
              "                        [-0.0796, -0.0771,  0.0541]],\n",
              "              \n",
              "                       [[ 0.0917,  0.0631,  0.0165],\n",
              "                        [ 0.0347,  0.1000, -0.0680],\n",
              "                        [-0.0479,  0.0737, -0.0721]],\n",
              "              \n",
              "                       [[-0.0581,  0.0769,  0.0333],\n",
              "                        [ 0.0341, -0.0447, -0.0015],\n",
              "                        [ 0.0965, -0.0633,  0.0008]],\n",
              "              \n",
              "                       [[ 0.0501, -0.0728,  0.1024],\n",
              "                        [-0.0527, -0.0253, -0.0285],\n",
              "                        [-0.0687, -0.1034,  0.0594]],\n",
              "              \n",
              "                       [[ 0.0280, -0.0987, -0.0678],\n",
              "                        [ 0.1042,  0.0403,  0.0423],\n",
              "                        [-0.0631, -0.0462, -0.0159]],\n",
              "              \n",
              "                       [[-0.0193, -0.0722,  0.0087],\n",
              "                        [ 0.0105, -0.0133,  0.0146],\n",
              "                        [-0.0418,  0.0274,  0.0398]],\n",
              "              \n",
              "                       [[-0.0555, -0.1045,  0.0552],\n",
              "                        [ 0.0251, -0.0536,  0.1016],\n",
              "                        [-0.0477,  0.0712,  0.0535]],\n",
              "              \n",
              "                       [[-0.0884,  0.0680, -0.0969],\n",
              "                        [-0.0584, -0.0176, -0.0711],\n",
              "                        [ 0.1030, -0.0211,  0.0419]],\n",
              "              \n",
              "                       [[-0.0941,  0.0607, -0.0328],\n",
              "                        [-0.0802,  0.0154,  0.0511],\n",
              "                        [ 0.0912, -0.0644, -0.0519]],\n",
              "              \n",
              "                       [[ 0.0203,  0.0286,  0.0405],\n",
              "                        [ 0.0579, -0.0239,  0.0586],\n",
              "                        [ 0.0777, -0.0275,  0.0750]]],\n",
              "              \n",
              "              \n",
              "                      [[[ 0.0515,  0.0930, -0.0599],\n",
              "                        [-0.0521, -0.0305,  0.0053],\n",
              "                        [ 0.0633, -0.0602,  0.0528]],\n",
              "              \n",
              "                       [[-0.0378,  0.0637, -0.0050],\n",
              "                        [-0.0923, -0.0580, -0.0763],\n",
              "                        [ 0.0523, -0.0707, -0.0088]],\n",
              "              \n",
              "                       [[ 0.0227, -0.0578,  0.0304],\n",
              "                        [-0.1029, -0.0754, -0.0955],\n",
              "                        [-0.0319, -0.0384,  0.0151]],\n",
              "              \n",
              "                       [[-0.0195,  0.0496,  0.0966],\n",
              "                        [ 0.0378, -0.0415, -0.0987],\n",
              "                        [ 0.0382, -0.0522,  0.0536]],\n",
              "              \n",
              "                       [[ 0.0705,  0.0407,  0.0989],\n",
              "                        [ 0.1001,  0.0223, -0.0768],\n",
              "                        [ 0.0942, -0.0500, -0.0498]],\n",
              "              \n",
              "                       [[ 0.0882,  0.0817,  0.0318],\n",
              "                        [ 0.0066, -0.0887, -0.0109],\n",
              "                        [ 0.1011,  0.0268,  0.0090]],\n",
              "              \n",
              "                       [[-0.0219, -0.0368,  0.0628],\n",
              "                        [ 0.0065,  0.0686, -0.0187],\n",
              "                        [ 0.0461,  0.0435,  0.0168]],\n",
              "              \n",
              "                       [[ 0.0662,  0.0661,  0.0977],\n",
              "                        [ 0.0810, -0.0270, -0.0892],\n",
              "                        [ 0.0193, -0.0009, -0.0275]],\n",
              "              \n",
              "                       [[-0.0177,  0.0050,  0.0769],\n",
              "                        [ 0.0329, -0.0374, -0.0433],\n",
              "                        [-0.0261, -0.0407,  0.0948]],\n",
              "              \n",
              "                       [[ 0.0558,  0.0952,  0.0003],\n",
              "                        [ 0.0213,  0.0366, -0.0998],\n",
              "                        [ 0.0094, -0.0071, -0.0591]]],\n",
              "              \n",
              "              \n",
              "                      [[[-0.0818,  0.0933,  0.0857],\n",
              "                        [ 0.0489,  0.1006, -0.0428],\n",
              "                        [-0.0182,  0.0399, -0.0174]],\n",
              "              \n",
              "                       [[-0.0207, -0.0871,  0.0283],\n",
              "                        [-0.0637,  0.0038,  0.1028],\n",
              "                        [-0.0324, -0.0332,  0.0636]],\n",
              "              \n",
              "                       [[-0.0388, -0.0091,  0.0984],\n",
              "                        [-0.0432, -0.0754, -0.0590],\n",
              "                        [-0.0292, -0.0500, -0.0547]],\n",
              "              \n",
              "                       [[ 0.0426,  0.0179, -0.0337],\n",
              "                        [-0.0819, -0.0332, -0.0445],\n",
              "                        [-0.0343, -0.0951,  0.0227]],\n",
              "              \n",
              "                       [[-0.0774, -0.0821, -0.0861],\n",
              "                        [ 0.0440, -0.0635, -0.0435],\n",
              "                        [ 0.0826,  0.0560,  0.0604]],\n",
              "              \n",
              "                       [[-0.1001, -0.0756, -0.0398],\n",
              "                        [ 0.0871,  0.0108, -0.0788],\n",
              "                        [ 0.0007, -0.0819, -0.0231]],\n",
              "              \n",
              "                       [[-0.0290,  0.0912,  0.0326],\n",
              "                        [-0.0184,  0.0178, -0.0304],\n",
              "                        [ 0.0414,  0.0417,  0.0283]],\n",
              "              \n",
              "                       [[-0.0411,  0.0899, -0.0152],\n",
              "                        [-0.0410,  0.0660,  0.0859],\n",
              "                        [ 0.1049,  0.0312, -0.0359]],\n",
              "              \n",
              "                       [[ 0.0535,  0.0904, -0.1034],\n",
              "                        [-0.0131, -0.0719,  0.0196],\n",
              "                        [ 0.0436, -0.0218, -0.0088]],\n",
              "              \n",
              "                       [[ 0.0474, -0.0177, -0.0885],\n",
              "                        [ 0.0843, -0.0531, -0.0116],\n",
              "                        [ 0.0099, -0.0063, -0.0992]]]])),\n",
              "             ('conv_blocl_2.0.bias',\n",
              "              tensor([ 0.0484, -0.0479, -0.0547,  0.0252, -0.0550, -0.0487, -0.0355, -0.0396,\n",
              "                      -0.0440, -0.0284])),\n",
              "             ('classifier.1.weight',\n",
              "              tensor([[ 0.0063, -0.0197, -0.0147,  ..., -0.0126, -0.0113, -0.0202],\n",
              "                      [ 0.0224,  0.0040, -0.0175,  ..., -0.0105, -0.0042,  0.0135],\n",
              "                      [-0.0026, -0.0169,  0.0171,  ..., -0.0131,  0.0140, -0.0176],\n",
              "                      ...,\n",
              "                      [-0.0232, -0.0153, -0.0189,  ...,  0.0075, -0.0093,  0.0090],\n",
              "                      [-0.0103, -0.0053, -0.0233,  ..., -0.0037, -0.0134, -0.0096],\n",
              "                      [ 0.0196, -0.0188, -0.0178,  ..., -0.0239,  0.0164, -0.0228]])),\n",
              "             ('classifier.1.bias',\n",
              "              tensor([ 0.0052,  0.0151, -0.0197,  0.0179,  0.0234,  0.0170,  0.0221, -0.0114,\n",
              "                      -0.0043,  0.0218]))])"
            ]
          },
          "metadata": {},
          "execution_count": 106
        }
      ],
      "source": [
        "torch.manual_seed(42)\n",
        "model_2 = FashionMNISTModelV2(input_shape=1, # canales de la imagen\n",
        "                              hidden_units=10, # numero de filtros\n",
        "                              output_shape=len(class_names)\n",
        "                              ).to(device)\n",
        "model_2.state_dict()"
      ]
    },
    {
      "cell_type": "markdown",
      "metadata": {
        "id": "iuCzQ7yPKDGR"
      },
      "source": [
        "### Loss function and optimizer"
      ]
    },
    {
      "cell_type": "code",
      "execution_count": 100,
      "metadata": {
        "id": "CzvjWHVPDIGm"
      },
      "outputs": [],
      "source": [
        "loss_fn = nn.CrossEntropyLoss() # <-- ¿Por qué este?\n",
        "#cambialos si quieres\n",
        "optimizer = torch.optim.SGD(params = model_2.parameters(), lr=0.1) # < -- ¿Por qué este?"
      ]
    },
    {
      "cell_type": "code",
      "execution_count": null,
      "metadata": {
        "id": "D5V1_vDpDRPr"
      },
      "outputs": [],
      "source": [
        "# DO NOT change this\n",
        "def accuracy_fn(y_true, y_pred):\n",
        "  correct = torch.eq(y_true, y_pred).sum().item()\n",
        "  acc = (correct/len(y_pred)) * 100\n",
        "  return acc"
      ]
    },
    {
      "cell_type": "markdown",
      "metadata": {
        "id": "BYmkvHNcHpxx"
      },
      "source": [
        "##Train fuction"
      ]
    },
    {
      "cell_type": "code",
      "execution_count": null,
      "metadata": {
        "colab": {
          "base_uri": "https://localhost:8080/",
          "height": 101,
          "referenced_widgets": [
            "c0db828404604adeb42596bd97a01c6a",
            "5d5c1e9a3ce74484b94daa529aadbc6a",
            "81ca36b9233d48099bcdb05d8c61831c",
            "342f9bfc39e54485b5d3fbab076a3247",
            "a890a561a10c4a64918b02a14d53cc20",
            "d288bb5d54f14156bacced56f619cc46",
            "6378856632814f6e8936b129318b7007",
            "9c14bc2afb2e464c96c3c3e952ab5c05",
            "92ac9292267a40a3a3753687175c048c",
            "e00c9127f9e7499998206daebb98dc1f",
            "310ccfb152ec43b09aebc305a5744273"
          ]
        },
        "id": "BiT1ilDNDL9e",
        "outputId": "8257063d-2ce7-475f-8391-9d55238eaf7f"
      },
      "outputs": [
        {
          "data": {
            "application/vnd.jupyter.widget-view+json": {
              "model_id": "c0db828404604adeb42596bd97a01c6a",
              "version_major": 2,
              "version_minor": 0
            },
            "text/plain": [
              "  0%|          | 0/3 [00:00<?, ?it/s]"
            ]
          },
          "metadata": {},
          "output_type": "display_data"
        },
        {
          "name": "stdout",
          "output_type": "stream",
          "text": [
            "epoch: 0 | Train loss: 0.59518, train acc: 78.38 | Test loss: 0.39500, test acc: 85.99\n",
            "epoch: 1 | Train loss: 0.36536, train acc: 86.90 | Test loss: 0.35244, test acc: 86.91\n",
            "epoch: 2 | Train loss: 0.32588, train acc: 88.13 | Test loss: 0.32719, test acc: 88.07\n"
          ]
        }
      ],
      "source": [
        "from tqdm.auto import tqdm\n",
        "torch.manual_seed(42)\n",
        "epochs = \"FIXME\"\n",
        "\n",
        "for epoch in tqdm(range(epochs)):\n",
        "  train_loss = 0\n",
        "  train_acc = 0\n",
        "  for batch, (X_train, y_train) in enumerate(train_dataloader):\n",
        "    \"FIXME\".train()\n",
        "    X_train, y_train = X_train.to(device), y_train.to(device)\n",
        "    y_train_logits = \"FIXME\"(\"FIXME\") #forward pass\n",
        "\n",
        "    # calcula la loss\n",
        "    loss = loss_fn(y_train_logits, y_train)\n",
        "    train_loss += loss\n",
        "    train_acc += accuracy_fn(y_true = y_train, y_pred = y_train_logits.argmax(dim=1))\n",
        "    # optimizer zero grad\n",
        "    \"FIXME\"\n",
        "    # loss backward\n",
        "    \"FIXME\"\n",
        "    # optimizer step step step\n",
        "    \"FIXME\"\n",
        "  train_loss /= len(train_dataloader) # <- Why we should divide?\n",
        "  train_acc /= len(train_dataloader)\n",
        "  \"FIXME\".eval()\n",
        "  with torch.no_grad():\n",
        "    test_loss = 0\n",
        "    test_acc = 0\n",
        "    for X_test, y_test in test_dataloader:\n",
        "      X_test, y_test = X_test.to(device), y_test.to(device)\n",
        "      #do the forward pass\n",
        "      y_test_logits = \"FIXME\"(\"FIXME\")\n",
        "      #calculate the loss\n",
        "      test_loss += loss_fn(y_test_logits, y_test)\n",
        "      test_acc += accuracy_fn(y_true = y_test, y_pred = y_test_logits.argmax(dim=1))\n",
        "    test_loss /= len(\"FIXME\")\n",
        "    test_acc /= len(\"FIXME\")\n",
        "  print(f\"epoch: {epoch} | Train loss: {train_loss:.5f}, train acc: {train_acc:.2f} | Test loss: {test_loss:.5f}, test acc: {test_acc:.2f}\")"
      ]
    },
    {
      "cell_type": "code",
      "execution_count": null,
      "metadata": {
        "colab": {
          "base_uri": "https://localhost:8080/",
          "height": 101,
          "referenced_widgets": [
            "22570d51287140fc955f57d8d2a3bd12",
            "4332b9cf4c994fe29894118de4bb3ede",
            "bcb29d99ace746dfa0a80a9c9d7a49d0",
            "f38df498c2ee49989ec62263d8a80d96",
            "e575d6128bda4569b74052e75db7920e",
            "6c1e7e5b4ff747de9ae0483f24e2f70b",
            "3ab74030e483470b8adc8e7f111a4368",
            "26e3b394a95f4642bea44426f98c22c6",
            "387faf3eef2e498e8b13f901cc65e2eb",
            "b08e986ed9704e62821d28e9f208bc59",
            "a52d4fc179c14b8a9c620ac173f824f7"
          ]
        },
        "id": "i6HO9K35DtxP",
        "outputId": "e0c6baa3-c6c2-4cfd-dbc4-2fa6d608db5e"
      },
      "outputs": [
        {
          "data": {
            "application/vnd.jupyter.widget-view+json": {
              "model_id": "22570d51287140fc955f57d8d2a3bd12",
              "version_major": 2,
              "version_minor": 0
            },
            "text/plain": [
              "  0%|          | 0/313 [00:00<?, ?it/s]"
            ]
          },
          "metadata": {},
          "output_type": "display_data"
        },
        {
          "data": {
            "text/plain": [
              "{'model_name': 'FashionMNISTModelV2',\n",
              " 'model_loss': 0.32718968391418457,\n",
              " 'model_acc': 88.06908945686901}"
            ]
          },
          "execution_count": 21,
          "metadata": {},
          "output_type": "execute_result"
        }
      ],
      "source": [
        "torch.manual_seed(42)\n",
        "\n",
        "def eval_model(model:torch.nn.Module,\n",
        "               data_loader: torch.utils.data.DataLoader,\n",
        "               loss_fn: torch.nn.Module,\n",
        "               accuracy_fn):\n",
        "    \"\"\" returns a dictionary containing the results of model predicting on data_loader\"\"\"\n",
        "    loss, acc = 0, 0\n",
        "    model.eval()\n",
        "\n",
        "    with torch.no_grad():\n",
        "      for X, y in tqdm(data_loader):\n",
        "        #make predictions\n",
        "        y_pred = model(X)\n",
        "\n",
        "        # Accumulate the loss and acc values per batch\n",
        "\n",
        "        loss += loss_fn(y_pred, y)\n",
        "        acc += accuracy_fn(y_true = y, y_pred = y_pred.argmax(dim=1))\n",
        "      # scale the loss and acc to find the average loss and acc per batch\n",
        "\n",
        "      loss /= len(data_loader)\n",
        "      acc /= len(data_loader)\n",
        "    return {\"model_name\": model.__class__.__name__,\n",
        "            \"model_loss\": loss.item(),\n",
        "            \"model_acc\": acc}\n",
        "model_0_results = eval_model(model=\"FIXME\",\n",
        "                             data_loader = test_dataloader,\n",
        "                             loss_fn =  loss_fn,\n",
        "                             accuracy_fn=accuracy_fn)\n",
        "model_0_results"
      ]
    },
    {
      "cell_type": "markdown",
      "metadata": {
        "id": "sy4ffJRXOWse"
      },
      "source": [
        "# 📋 Resumen del Modelo  \n",
        "\n",
        "Después de construir nuestra red, es importante revisar su **estructura y cantidad de parámetros**.  \n",
        "\n",
        "📌 **El resumen del modelo nos muestra:**  \n",
        "🔹 Las capas de la red y sus dimensiones.  \n",
        "🔹 La cantidad de parámetros entrenables.  \n",
        "🔹 La conexión entre cada capa.  \n",
        "\n",
        "✅ En `PyTorch`, podemos usar `print(model)` o `torchsummary.summary(model, input_size=(C, H, W))` para visualizarlo.  \n"
      ]
    },
    {
      "cell_type": "code",
      "execution_count": null,
      "metadata": {
        "id": "eX3UIP4IHNxb"
      },
      "outputs": [],
      "source": [
        "%%capture\n",
        "! pip install torchinfo"
      ]
    },
    {
      "cell_type": "code",
      "execution_count": 61,
      "metadata": {
        "colab": {
          "base_uri": "https://localhost:8080/",
          "height": 348
        },
        "id": "MfRfhe2EHKoi",
        "outputId": "02acaf8b-18e5-4e6a-8781-b5c63919cf18"
      },
      "outputs": [
        {
          "output_type": "error",
          "ename": "ModuleNotFoundError",
          "evalue": "No module named 'torchinfo'",
          "traceback": [
            "\u001b[0;31m---------------------------------------------------------------------------\u001b[0m",
            "\u001b[0;31mModuleNotFoundError\u001b[0m                       Traceback (most recent call last)",
            "\u001b[0;32m<ipython-input-61-c9209ecefdea>\u001b[0m in \u001b[0;36m<cell line: 0>\u001b[0;34m()\u001b[0m\n\u001b[0;32m----> 1\u001b[0;31m \u001b[0;32mimport\u001b[0m \u001b[0mtorchinfo\u001b[0m\u001b[0;34m\u001b[0m\u001b[0;34m\u001b[0m\u001b[0m\n\u001b[0m\u001b[1;32m      2\u001b[0m \u001b[0mtorchinfo\u001b[0m\u001b[0;34m.\u001b[0m\u001b[0msummary\u001b[0m\u001b[0;34m(\u001b[0m\u001b[0;34m\"FIXME\"\u001b[0m\u001b[0;34m)\u001b[0m\u001b[0;34m\u001b[0m\u001b[0;34m\u001b[0m\u001b[0m\n",
            "\u001b[0;31mModuleNotFoundError\u001b[0m: No module named 'torchinfo'",
            "",
            "\u001b[0;31m---------------------------------------------------------------------------\u001b[0;32m\nNOTE: If your import is failing due to a missing package, you can\nmanually install dependencies using either !pip or !apt.\n\nTo view examples of installing some common dependencies, click the\n\"Open Examples\" button below.\n\u001b[0;31m---------------------------------------------------------------------------\u001b[0m\n"
          ],
          "errorDetails": {
            "actions": [
              {
                "action": "open_url",
                "actionText": "Open Examples",
                "url": "/notebooks/snippets/importing_libraries.ipynb"
              }
            ]
          }
        }
      ],
      "source": [
        "import torchinfo\n",
        "torchinfo.summary(\"FIXME\")"
      ]
    }
  ],
  "metadata": {
    "colab": {
      "provenance": []
    },
    "kernelspec": {
      "display_name": "Python 3",
      "name": "python3"
    },
    "language_info": {
      "name": "python"
    },
    "widgets": {
      "application/vnd.jupyter.widget-state+json": {
        "22570d51287140fc955f57d8d2a3bd12": {
          "model_module": "@jupyter-widgets/controls",
          "model_module_version": "1.5.0",
          "model_name": "HBoxModel",
          "state": {
            "_dom_classes": [],
            "_model_module": "@jupyter-widgets/controls",
            "_model_module_version": "1.5.0",
            "_model_name": "HBoxModel",
            "_view_count": null,
            "_view_module": "@jupyter-widgets/controls",
            "_view_module_version": "1.5.0",
            "_view_name": "HBoxView",
            "box_style": "",
            "children": [
              "IPY_MODEL_4332b9cf4c994fe29894118de4bb3ede",
              "IPY_MODEL_bcb29d99ace746dfa0a80a9c9d7a49d0",
              "IPY_MODEL_f38df498c2ee49989ec62263d8a80d96"
            ],
            "layout": "IPY_MODEL_e575d6128bda4569b74052e75db7920e"
          }
        },
        "26e3b394a95f4642bea44426f98c22c6": {
          "model_module": "@jupyter-widgets/base",
          "model_module_version": "1.2.0",
          "model_name": "LayoutModel",
          "state": {
            "_model_module": "@jupyter-widgets/base",
            "_model_module_version": "1.2.0",
            "_model_name": "LayoutModel",
            "_view_count": null,
            "_view_module": "@jupyter-widgets/base",
            "_view_module_version": "1.2.0",
            "_view_name": "LayoutView",
            "align_content": null,
            "align_items": null,
            "align_self": null,
            "border": null,
            "bottom": null,
            "display": null,
            "flex": null,
            "flex_flow": null,
            "grid_area": null,
            "grid_auto_columns": null,
            "grid_auto_flow": null,
            "grid_auto_rows": null,
            "grid_column": null,
            "grid_gap": null,
            "grid_row": null,
            "grid_template_areas": null,
            "grid_template_columns": null,
            "grid_template_rows": null,
            "height": null,
            "justify_content": null,
            "justify_items": null,
            "left": null,
            "margin": null,
            "max_height": null,
            "max_width": null,
            "min_height": null,
            "min_width": null,
            "object_fit": null,
            "object_position": null,
            "order": null,
            "overflow": null,
            "overflow_x": null,
            "overflow_y": null,
            "padding": null,
            "right": null,
            "top": null,
            "visibility": null,
            "width": null
          }
        },
        "310ccfb152ec43b09aebc305a5744273": {
          "model_module": "@jupyter-widgets/controls",
          "model_module_version": "1.5.0",
          "model_name": "DescriptionStyleModel",
          "state": {
            "_model_module": "@jupyter-widgets/controls",
            "_model_module_version": "1.5.0",
            "_model_name": "DescriptionStyleModel",
            "_view_count": null,
            "_view_module": "@jupyter-widgets/base",
            "_view_module_version": "1.2.0",
            "_view_name": "StyleView",
            "description_width": ""
          }
        },
        "342f9bfc39e54485b5d3fbab076a3247": {
          "model_module": "@jupyter-widgets/controls",
          "model_module_version": "1.5.0",
          "model_name": "HTMLModel",
          "state": {
            "_dom_classes": [],
            "_model_module": "@jupyter-widgets/controls",
            "_model_module_version": "1.5.0",
            "_model_name": "HTMLModel",
            "_view_count": null,
            "_view_module": "@jupyter-widgets/controls",
            "_view_module_version": "1.5.0",
            "_view_name": "HTMLView",
            "description": "",
            "description_tooltip": null,
            "layout": "IPY_MODEL_e00c9127f9e7499998206daebb98dc1f",
            "placeholder": "​",
            "style": "IPY_MODEL_310ccfb152ec43b09aebc305a5744273",
            "value": " 3/3 [03:01&lt;00:00, 60.03s/it]"
          }
        },
        "387faf3eef2e498e8b13f901cc65e2eb": {
          "model_module": "@jupyter-widgets/controls",
          "model_module_version": "1.5.0",
          "model_name": "ProgressStyleModel",
          "state": {
            "_model_module": "@jupyter-widgets/controls",
            "_model_module_version": "1.5.0",
            "_model_name": "ProgressStyleModel",
            "_view_count": null,
            "_view_module": "@jupyter-widgets/base",
            "_view_module_version": "1.2.0",
            "_view_name": "StyleView",
            "bar_color": null,
            "description_width": ""
          }
        },
        "3ab74030e483470b8adc8e7f111a4368": {
          "model_module": "@jupyter-widgets/controls",
          "model_module_version": "1.5.0",
          "model_name": "DescriptionStyleModel",
          "state": {
            "_model_module": "@jupyter-widgets/controls",
            "_model_module_version": "1.5.0",
            "_model_name": "DescriptionStyleModel",
            "_view_count": null,
            "_view_module": "@jupyter-widgets/base",
            "_view_module_version": "1.2.0",
            "_view_name": "StyleView",
            "description_width": ""
          }
        },
        "4332b9cf4c994fe29894118de4bb3ede": {
          "model_module": "@jupyter-widgets/controls",
          "model_module_version": "1.5.0",
          "model_name": "HTMLModel",
          "state": {
            "_dom_classes": [],
            "_model_module": "@jupyter-widgets/controls",
            "_model_module_version": "1.5.0",
            "_model_name": "HTMLModel",
            "_view_count": null,
            "_view_module": "@jupyter-widgets/controls",
            "_view_module_version": "1.5.0",
            "_view_name": "HTMLView",
            "description": "",
            "description_tooltip": null,
            "layout": "IPY_MODEL_6c1e7e5b4ff747de9ae0483f24e2f70b",
            "placeholder": "​",
            "style": "IPY_MODEL_3ab74030e483470b8adc8e7f111a4368",
            "value": "100%"
          }
        },
        "5d5c1e9a3ce74484b94daa529aadbc6a": {
          "model_module": "@jupyter-widgets/controls",
          "model_module_version": "1.5.0",
          "model_name": "HTMLModel",
          "state": {
            "_dom_classes": [],
            "_model_module": "@jupyter-widgets/controls",
            "_model_module_version": "1.5.0",
            "_model_name": "HTMLModel",
            "_view_count": null,
            "_view_module": "@jupyter-widgets/controls",
            "_view_module_version": "1.5.0",
            "_view_name": "HTMLView",
            "description": "",
            "description_tooltip": null,
            "layout": "IPY_MODEL_d288bb5d54f14156bacced56f619cc46",
            "placeholder": "​",
            "style": "IPY_MODEL_6378856632814f6e8936b129318b7007",
            "value": "100%"
          }
        },
        "6378856632814f6e8936b129318b7007": {
          "model_module": "@jupyter-widgets/controls",
          "model_module_version": "1.5.0",
          "model_name": "DescriptionStyleModel",
          "state": {
            "_model_module": "@jupyter-widgets/controls",
            "_model_module_version": "1.5.0",
            "_model_name": "DescriptionStyleModel",
            "_view_count": null,
            "_view_module": "@jupyter-widgets/base",
            "_view_module_version": "1.2.0",
            "_view_name": "StyleView",
            "description_width": ""
          }
        },
        "6c1e7e5b4ff747de9ae0483f24e2f70b": {
          "model_module": "@jupyter-widgets/base",
          "model_module_version": "1.2.0",
          "model_name": "LayoutModel",
          "state": {
            "_model_module": "@jupyter-widgets/base",
            "_model_module_version": "1.2.0",
            "_model_name": "LayoutModel",
            "_view_count": null,
            "_view_module": "@jupyter-widgets/base",
            "_view_module_version": "1.2.0",
            "_view_name": "LayoutView",
            "align_content": null,
            "align_items": null,
            "align_self": null,
            "border": null,
            "bottom": null,
            "display": null,
            "flex": null,
            "flex_flow": null,
            "grid_area": null,
            "grid_auto_columns": null,
            "grid_auto_flow": null,
            "grid_auto_rows": null,
            "grid_column": null,
            "grid_gap": null,
            "grid_row": null,
            "grid_template_areas": null,
            "grid_template_columns": null,
            "grid_template_rows": null,
            "height": null,
            "justify_content": null,
            "justify_items": null,
            "left": null,
            "margin": null,
            "max_height": null,
            "max_width": null,
            "min_height": null,
            "min_width": null,
            "object_fit": null,
            "object_position": null,
            "order": null,
            "overflow": null,
            "overflow_x": null,
            "overflow_y": null,
            "padding": null,
            "right": null,
            "top": null,
            "visibility": null,
            "width": null
          }
        },
        "81ca36b9233d48099bcdb05d8c61831c": {
          "model_module": "@jupyter-widgets/controls",
          "model_module_version": "1.5.0",
          "model_name": "FloatProgressModel",
          "state": {
            "_dom_classes": [],
            "_model_module": "@jupyter-widgets/controls",
            "_model_module_version": "1.5.0",
            "_model_name": "FloatProgressModel",
            "_view_count": null,
            "_view_module": "@jupyter-widgets/controls",
            "_view_module_version": "1.5.0",
            "_view_name": "ProgressView",
            "bar_style": "success",
            "description": "",
            "description_tooltip": null,
            "layout": "IPY_MODEL_9c14bc2afb2e464c96c3c3e952ab5c05",
            "max": 3,
            "min": 0,
            "orientation": "horizontal",
            "style": "IPY_MODEL_92ac9292267a40a3a3753687175c048c",
            "value": 3
          }
        },
        "92ac9292267a40a3a3753687175c048c": {
          "model_module": "@jupyter-widgets/controls",
          "model_module_version": "1.5.0",
          "model_name": "ProgressStyleModel",
          "state": {
            "_model_module": "@jupyter-widgets/controls",
            "_model_module_version": "1.5.0",
            "_model_name": "ProgressStyleModel",
            "_view_count": null,
            "_view_module": "@jupyter-widgets/base",
            "_view_module_version": "1.2.0",
            "_view_name": "StyleView",
            "bar_color": null,
            "description_width": ""
          }
        },
        "9c14bc2afb2e464c96c3c3e952ab5c05": {
          "model_module": "@jupyter-widgets/base",
          "model_module_version": "1.2.0",
          "model_name": "LayoutModel",
          "state": {
            "_model_module": "@jupyter-widgets/base",
            "_model_module_version": "1.2.0",
            "_model_name": "LayoutModel",
            "_view_count": null,
            "_view_module": "@jupyter-widgets/base",
            "_view_module_version": "1.2.0",
            "_view_name": "LayoutView",
            "align_content": null,
            "align_items": null,
            "align_self": null,
            "border": null,
            "bottom": null,
            "display": null,
            "flex": null,
            "flex_flow": null,
            "grid_area": null,
            "grid_auto_columns": null,
            "grid_auto_flow": null,
            "grid_auto_rows": null,
            "grid_column": null,
            "grid_gap": null,
            "grid_row": null,
            "grid_template_areas": null,
            "grid_template_columns": null,
            "grid_template_rows": null,
            "height": null,
            "justify_content": null,
            "justify_items": null,
            "left": null,
            "margin": null,
            "max_height": null,
            "max_width": null,
            "min_height": null,
            "min_width": null,
            "object_fit": null,
            "object_position": null,
            "order": null,
            "overflow": null,
            "overflow_x": null,
            "overflow_y": null,
            "padding": null,
            "right": null,
            "top": null,
            "visibility": null,
            "width": null
          }
        },
        "a52d4fc179c14b8a9c620ac173f824f7": {
          "model_module": "@jupyter-widgets/controls",
          "model_module_version": "1.5.0",
          "model_name": "DescriptionStyleModel",
          "state": {
            "_model_module": "@jupyter-widgets/controls",
            "_model_module_version": "1.5.0",
            "_model_name": "DescriptionStyleModel",
            "_view_count": null,
            "_view_module": "@jupyter-widgets/base",
            "_view_module_version": "1.2.0",
            "_view_name": "StyleView",
            "description_width": ""
          }
        },
        "a890a561a10c4a64918b02a14d53cc20": {
          "model_module": "@jupyter-widgets/base",
          "model_module_version": "1.2.0",
          "model_name": "LayoutModel",
          "state": {
            "_model_module": "@jupyter-widgets/base",
            "_model_module_version": "1.2.0",
            "_model_name": "LayoutModel",
            "_view_count": null,
            "_view_module": "@jupyter-widgets/base",
            "_view_module_version": "1.2.0",
            "_view_name": "LayoutView",
            "align_content": null,
            "align_items": null,
            "align_self": null,
            "border": null,
            "bottom": null,
            "display": null,
            "flex": null,
            "flex_flow": null,
            "grid_area": null,
            "grid_auto_columns": null,
            "grid_auto_flow": null,
            "grid_auto_rows": null,
            "grid_column": null,
            "grid_gap": null,
            "grid_row": null,
            "grid_template_areas": null,
            "grid_template_columns": null,
            "grid_template_rows": null,
            "height": null,
            "justify_content": null,
            "justify_items": null,
            "left": null,
            "margin": null,
            "max_height": null,
            "max_width": null,
            "min_height": null,
            "min_width": null,
            "object_fit": null,
            "object_position": null,
            "order": null,
            "overflow": null,
            "overflow_x": null,
            "overflow_y": null,
            "padding": null,
            "right": null,
            "top": null,
            "visibility": null,
            "width": null
          }
        },
        "b08e986ed9704e62821d28e9f208bc59": {
          "model_module": "@jupyter-widgets/base",
          "model_module_version": "1.2.0",
          "model_name": "LayoutModel",
          "state": {
            "_model_module": "@jupyter-widgets/base",
            "_model_module_version": "1.2.0",
            "_model_name": "LayoutModel",
            "_view_count": null,
            "_view_module": "@jupyter-widgets/base",
            "_view_module_version": "1.2.0",
            "_view_name": "LayoutView",
            "align_content": null,
            "align_items": null,
            "align_self": null,
            "border": null,
            "bottom": null,
            "display": null,
            "flex": null,
            "flex_flow": null,
            "grid_area": null,
            "grid_auto_columns": null,
            "grid_auto_flow": null,
            "grid_auto_rows": null,
            "grid_column": null,
            "grid_gap": null,
            "grid_row": null,
            "grid_template_areas": null,
            "grid_template_columns": null,
            "grid_template_rows": null,
            "height": null,
            "justify_content": null,
            "justify_items": null,
            "left": null,
            "margin": null,
            "max_height": null,
            "max_width": null,
            "min_height": null,
            "min_width": null,
            "object_fit": null,
            "object_position": null,
            "order": null,
            "overflow": null,
            "overflow_x": null,
            "overflow_y": null,
            "padding": null,
            "right": null,
            "top": null,
            "visibility": null,
            "width": null
          }
        },
        "bcb29d99ace746dfa0a80a9c9d7a49d0": {
          "model_module": "@jupyter-widgets/controls",
          "model_module_version": "1.5.0",
          "model_name": "FloatProgressModel",
          "state": {
            "_dom_classes": [],
            "_model_module": "@jupyter-widgets/controls",
            "_model_module_version": "1.5.0",
            "_model_name": "FloatProgressModel",
            "_view_count": null,
            "_view_module": "@jupyter-widgets/controls",
            "_view_module_version": "1.5.0",
            "_view_name": "ProgressView",
            "bar_style": "success",
            "description": "",
            "description_tooltip": null,
            "layout": "IPY_MODEL_26e3b394a95f4642bea44426f98c22c6",
            "max": 313,
            "min": 0,
            "orientation": "horizontal",
            "style": "IPY_MODEL_387faf3eef2e498e8b13f901cc65e2eb",
            "value": 313
          }
        },
        "c0db828404604adeb42596bd97a01c6a": {
          "model_module": "@jupyter-widgets/controls",
          "model_module_version": "1.5.0",
          "model_name": "HBoxModel",
          "state": {
            "_dom_classes": [],
            "_model_module": "@jupyter-widgets/controls",
            "_model_module_version": "1.5.0",
            "_model_name": "HBoxModel",
            "_view_count": null,
            "_view_module": "@jupyter-widgets/controls",
            "_view_module_version": "1.5.0",
            "_view_name": "HBoxView",
            "box_style": "",
            "children": [
              "IPY_MODEL_5d5c1e9a3ce74484b94daa529aadbc6a",
              "IPY_MODEL_81ca36b9233d48099bcdb05d8c61831c",
              "IPY_MODEL_342f9bfc39e54485b5d3fbab076a3247"
            ],
            "layout": "IPY_MODEL_a890a561a10c4a64918b02a14d53cc20"
          }
        },
        "d288bb5d54f14156bacced56f619cc46": {
          "model_module": "@jupyter-widgets/base",
          "model_module_version": "1.2.0",
          "model_name": "LayoutModel",
          "state": {
            "_model_module": "@jupyter-widgets/base",
            "_model_module_version": "1.2.0",
            "_model_name": "LayoutModel",
            "_view_count": null,
            "_view_module": "@jupyter-widgets/base",
            "_view_module_version": "1.2.0",
            "_view_name": "LayoutView",
            "align_content": null,
            "align_items": null,
            "align_self": null,
            "border": null,
            "bottom": null,
            "display": null,
            "flex": null,
            "flex_flow": null,
            "grid_area": null,
            "grid_auto_columns": null,
            "grid_auto_flow": null,
            "grid_auto_rows": null,
            "grid_column": null,
            "grid_gap": null,
            "grid_row": null,
            "grid_template_areas": null,
            "grid_template_columns": null,
            "grid_template_rows": null,
            "height": null,
            "justify_content": null,
            "justify_items": null,
            "left": null,
            "margin": null,
            "max_height": null,
            "max_width": null,
            "min_height": null,
            "min_width": null,
            "object_fit": null,
            "object_position": null,
            "order": null,
            "overflow": null,
            "overflow_x": null,
            "overflow_y": null,
            "padding": null,
            "right": null,
            "top": null,
            "visibility": null,
            "width": null
          }
        },
        "e00c9127f9e7499998206daebb98dc1f": {
          "model_module": "@jupyter-widgets/base",
          "model_module_version": "1.2.0",
          "model_name": "LayoutModel",
          "state": {
            "_model_module": "@jupyter-widgets/base",
            "_model_module_version": "1.2.0",
            "_model_name": "LayoutModel",
            "_view_count": null,
            "_view_module": "@jupyter-widgets/base",
            "_view_module_version": "1.2.0",
            "_view_name": "LayoutView",
            "align_content": null,
            "align_items": null,
            "align_self": null,
            "border": null,
            "bottom": null,
            "display": null,
            "flex": null,
            "flex_flow": null,
            "grid_area": null,
            "grid_auto_columns": null,
            "grid_auto_flow": null,
            "grid_auto_rows": null,
            "grid_column": null,
            "grid_gap": null,
            "grid_row": null,
            "grid_template_areas": null,
            "grid_template_columns": null,
            "grid_template_rows": null,
            "height": null,
            "justify_content": null,
            "justify_items": null,
            "left": null,
            "margin": null,
            "max_height": null,
            "max_width": null,
            "min_height": null,
            "min_width": null,
            "object_fit": null,
            "object_position": null,
            "order": null,
            "overflow": null,
            "overflow_x": null,
            "overflow_y": null,
            "padding": null,
            "right": null,
            "top": null,
            "visibility": null,
            "width": null
          }
        },
        "e575d6128bda4569b74052e75db7920e": {
          "model_module": "@jupyter-widgets/base",
          "model_module_version": "1.2.0",
          "model_name": "LayoutModel",
          "state": {
            "_model_module": "@jupyter-widgets/base",
            "_model_module_version": "1.2.0",
            "_model_name": "LayoutModel",
            "_view_count": null,
            "_view_module": "@jupyter-widgets/base",
            "_view_module_version": "1.2.0",
            "_view_name": "LayoutView",
            "align_content": null,
            "align_items": null,
            "align_self": null,
            "border": null,
            "bottom": null,
            "display": null,
            "flex": null,
            "flex_flow": null,
            "grid_area": null,
            "grid_auto_columns": null,
            "grid_auto_flow": null,
            "grid_auto_rows": null,
            "grid_column": null,
            "grid_gap": null,
            "grid_row": null,
            "grid_template_areas": null,
            "grid_template_columns": null,
            "grid_template_rows": null,
            "height": null,
            "justify_content": null,
            "justify_items": null,
            "left": null,
            "margin": null,
            "max_height": null,
            "max_width": null,
            "min_height": null,
            "min_width": null,
            "object_fit": null,
            "object_position": null,
            "order": null,
            "overflow": null,
            "overflow_x": null,
            "overflow_y": null,
            "padding": null,
            "right": null,
            "top": null,
            "visibility": null,
            "width": null
          }
        },
        "f38df498c2ee49989ec62263d8a80d96": {
          "model_module": "@jupyter-widgets/controls",
          "model_module_version": "1.5.0",
          "model_name": "HTMLModel",
          "state": {
            "_dom_classes": [],
            "_model_module": "@jupyter-widgets/controls",
            "_model_module_version": "1.5.0",
            "_model_name": "HTMLModel",
            "_view_count": null,
            "_view_module": "@jupyter-widgets/controls",
            "_view_module_version": "1.5.0",
            "_view_name": "HTMLView",
            "description": "",
            "description_tooltip": null,
            "layout": "IPY_MODEL_b08e986ed9704e62821d28e9f208bc59",
            "placeholder": "​",
            "style": "IPY_MODEL_a52d4fc179c14b8a9c620ac173f824f7",
            "value": " 313/313 [00:05&lt;00:00, 49.62it/s]"
          }
        },
        "d94a166d14e2449780ef33e7ec3e2f91": {
          "model_module": "@jupyter-widgets/controls",
          "model_name": "HBoxModel",
          "model_module_version": "1.5.0",
          "state": {
            "_dom_classes": [],
            "_model_module": "@jupyter-widgets/controls",
            "_model_module_version": "1.5.0",
            "_model_name": "HBoxModel",
            "_view_count": null,
            "_view_module": "@jupyter-widgets/controls",
            "_view_module_version": "1.5.0",
            "_view_name": "HBoxView",
            "box_style": "",
            "children": [
              "IPY_MODEL_8801dc76223347e79f652ee04141c402",
              "IPY_MODEL_41f9f99a48ae4eb9959b9a923ff6e9e5",
              "IPY_MODEL_b549ed39e224417485103f105795825a"
            ],
            "layout": "IPY_MODEL_77f4d242d6454cafb8e51a9e4529ed4d"
          }
        },
        "8801dc76223347e79f652ee04141c402": {
          "model_module": "@jupyter-widgets/controls",
          "model_name": "HTMLModel",
          "model_module_version": "1.5.0",
          "state": {
            "_dom_classes": [],
            "_model_module": "@jupyter-widgets/controls",
            "_model_module_version": "1.5.0",
            "_model_name": "HTMLModel",
            "_view_count": null,
            "_view_module": "@jupyter-widgets/controls",
            "_view_module_version": "1.5.0",
            "_view_name": "HTMLView",
            "description": "",
            "description_tooltip": null,
            "layout": "IPY_MODEL_d9507239e3414c24b3a08c51f60d5c64",
            "placeholder": "​",
            "style": "IPY_MODEL_42a71b81fef34c3c8041812c73716dfc",
            "value": "100%"
          }
        },
        "41f9f99a48ae4eb9959b9a923ff6e9e5": {
          "model_module": "@jupyter-widgets/controls",
          "model_name": "FloatProgressModel",
          "model_module_version": "1.5.0",
          "state": {
            "_dom_classes": [],
            "_model_module": "@jupyter-widgets/controls",
            "_model_module_version": "1.5.0",
            "_model_name": "FloatProgressModel",
            "_view_count": null,
            "_view_module": "@jupyter-widgets/controls",
            "_view_module_version": "1.5.0",
            "_view_name": "ProgressView",
            "bar_style": "success",
            "description": "",
            "description_tooltip": null,
            "layout": "IPY_MODEL_541430871ed74f769c40ce63a41f5fee",
            "max": 1,
            "min": 0,
            "orientation": "horizontal",
            "style": "IPY_MODEL_f65fc8a410aa4951912aaf2f21cfd701",
            "value": 1
          }
        },
        "b549ed39e224417485103f105795825a": {
          "model_module": "@jupyter-widgets/controls",
          "model_name": "HTMLModel",
          "model_module_version": "1.5.0",
          "state": {
            "_dom_classes": [],
            "_model_module": "@jupyter-widgets/controls",
            "_model_module_version": "1.5.0",
            "_model_name": "HTMLModel",
            "_view_count": null,
            "_view_module": "@jupyter-widgets/controls",
            "_view_module_version": "1.5.0",
            "_view_name": "HTMLView",
            "description": "",
            "description_tooltip": null,
            "layout": "IPY_MODEL_e3ebe9f1cc0f49608938eabc62b7018a",
            "placeholder": "​",
            "style": "IPY_MODEL_218209664f424a4689159199e8f668d2",
            "value": " 1/1 [01:27&lt;00:00, 87.12s/it]"
          }
        },
        "77f4d242d6454cafb8e51a9e4529ed4d": {
          "model_module": "@jupyter-widgets/base",
          "model_name": "LayoutModel",
          "model_module_version": "1.2.0",
          "state": {
            "_model_module": "@jupyter-widgets/base",
            "_model_module_version": "1.2.0",
            "_model_name": "LayoutModel",
            "_view_count": null,
            "_view_module": "@jupyter-widgets/base",
            "_view_module_version": "1.2.0",
            "_view_name": "LayoutView",
            "align_content": null,
            "align_items": null,
            "align_self": null,
            "border": null,
            "bottom": null,
            "display": null,
            "flex": null,
            "flex_flow": null,
            "grid_area": null,
            "grid_auto_columns": null,
            "grid_auto_flow": null,
            "grid_auto_rows": null,
            "grid_column": null,
            "grid_gap": null,
            "grid_row": null,
            "grid_template_areas": null,
            "grid_template_columns": null,
            "grid_template_rows": null,
            "height": null,
            "justify_content": null,
            "justify_items": null,
            "left": null,
            "margin": null,
            "max_height": null,
            "max_width": null,
            "min_height": null,
            "min_width": null,
            "object_fit": null,
            "object_position": null,
            "order": null,
            "overflow": null,
            "overflow_x": null,
            "overflow_y": null,
            "padding": null,
            "right": null,
            "top": null,
            "visibility": null,
            "width": null
          }
        },
        "d9507239e3414c24b3a08c51f60d5c64": {
          "model_module": "@jupyter-widgets/base",
          "model_name": "LayoutModel",
          "model_module_version": "1.2.0",
          "state": {
            "_model_module": "@jupyter-widgets/base",
            "_model_module_version": "1.2.0",
            "_model_name": "LayoutModel",
            "_view_count": null,
            "_view_module": "@jupyter-widgets/base",
            "_view_module_version": "1.2.0",
            "_view_name": "LayoutView",
            "align_content": null,
            "align_items": null,
            "align_self": null,
            "border": null,
            "bottom": null,
            "display": null,
            "flex": null,
            "flex_flow": null,
            "grid_area": null,
            "grid_auto_columns": null,
            "grid_auto_flow": null,
            "grid_auto_rows": null,
            "grid_column": null,
            "grid_gap": null,
            "grid_row": null,
            "grid_template_areas": null,
            "grid_template_columns": null,
            "grid_template_rows": null,
            "height": null,
            "justify_content": null,
            "justify_items": null,
            "left": null,
            "margin": null,
            "max_height": null,
            "max_width": null,
            "min_height": null,
            "min_width": null,
            "object_fit": null,
            "object_position": null,
            "order": null,
            "overflow": null,
            "overflow_x": null,
            "overflow_y": null,
            "padding": null,
            "right": null,
            "top": null,
            "visibility": null,
            "width": null
          }
        },
        "42a71b81fef34c3c8041812c73716dfc": {
          "model_module": "@jupyter-widgets/controls",
          "model_name": "DescriptionStyleModel",
          "model_module_version": "1.5.0",
          "state": {
            "_model_module": "@jupyter-widgets/controls",
            "_model_module_version": "1.5.0",
            "_model_name": "DescriptionStyleModel",
            "_view_count": null,
            "_view_module": "@jupyter-widgets/base",
            "_view_module_version": "1.2.0",
            "_view_name": "StyleView",
            "description_width": ""
          }
        },
        "541430871ed74f769c40ce63a41f5fee": {
          "model_module": "@jupyter-widgets/base",
          "model_name": "LayoutModel",
          "model_module_version": "1.2.0",
          "state": {
            "_model_module": "@jupyter-widgets/base",
            "_model_module_version": "1.2.0",
            "_model_name": "LayoutModel",
            "_view_count": null,
            "_view_module": "@jupyter-widgets/base",
            "_view_module_version": "1.2.0",
            "_view_name": "LayoutView",
            "align_content": null,
            "align_items": null,
            "align_self": null,
            "border": null,
            "bottom": null,
            "display": null,
            "flex": null,
            "flex_flow": null,
            "grid_area": null,
            "grid_auto_columns": null,
            "grid_auto_flow": null,
            "grid_auto_rows": null,
            "grid_column": null,
            "grid_gap": null,
            "grid_row": null,
            "grid_template_areas": null,
            "grid_template_columns": null,
            "grid_template_rows": null,
            "height": null,
            "justify_content": null,
            "justify_items": null,
            "left": null,
            "margin": null,
            "max_height": null,
            "max_width": null,
            "min_height": null,
            "min_width": null,
            "object_fit": null,
            "object_position": null,
            "order": null,
            "overflow": null,
            "overflow_x": null,
            "overflow_y": null,
            "padding": null,
            "right": null,
            "top": null,
            "visibility": null,
            "width": null
          }
        },
        "f65fc8a410aa4951912aaf2f21cfd701": {
          "model_module": "@jupyter-widgets/controls",
          "model_name": "ProgressStyleModel",
          "model_module_version": "1.5.0",
          "state": {
            "_model_module": "@jupyter-widgets/controls",
            "_model_module_version": "1.5.0",
            "_model_name": "ProgressStyleModel",
            "_view_count": null,
            "_view_module": "@jupyter-widgets/base",
            "_view_module_version": "1.2.0",
            "_view_name": "StyleView",
            "bar_color": null,
            "description_width": ""
          }
        },
        "e3ebe9f1cc0f49608938eabc62b7018a": {
          "model_module": "@jupyter-widgets/base",
          "model_name": "LayoutModel",
          "model_module_version": "1.2.0",
          "state": {
            "_model_module": "@jupyter-widgets/base",
            "_model_module_version": "1.2.0",
            "_model_name": "LayoutModel",
            "_view_count": null,
            "_view_module": "@jupyter-widgets/base",
            "_view_module_version": "1.2.0",
            "_view_name": "LayoutView",
            "align_content": null,
            "align_items": null,
            "align_self": null,
            "border": null,
            "bottom": null,
            "display": null,
            "flex": null,
            "flex_flow": null,
            "grid_area": null,
            "grid_auto_columns": null,
            "grid_auto_flow": null,
            "grid_auto_rows": null,
            "grid_column": null,
            "grid_gap": null,
            "grid_row": null,
            "grid_template_areas": null,
            "grid_template_columns": null,
            "grid_template_rows": null,
            "height": null,
            "justify_content": null,
            "justify_items": null,
            "left": null,
            "margin": null,
            "max_height": null,
            "max_width": null,
            "min_height": null,
            "min_width": null,
            "object_fit": null,
            "object_position": null,
            "order": null,
            "overflow": null,
            "overflow_x": null,
            "overflow_y": null,
            "padding": null,
            "right": null,
            "top": null,
            "visibility": null,
            "width": null
          }
        },
        "218209664f424a4689159199e8f668d2": {
          "model_module": "@jupyter-widgets/controls",
          "model_name": "DescriptionStyleModel",
          "model_module_version": "1.5.0",
          "state": {
            "_model_module": "@jupyter-widgets/controls",
            "_model_module_version": "1.5.0",
            "_model_name": "DescriptionStyleModel",
            "_view_count": null,
            "_view_module": "@jupyter-widgets/base",
            "_view_module_version": "1.2.0",
            "_view_name": "StyleView",
            "description_width": ""
          }
        },
        "0fbb889573144ea09167b1e3e22d3680": {
          "model_module": "@jupyter-widgets/controls",
          "model_name": "HBoxModel",
          "model_module_version": "1.5.0",
          "state": {
            "_dom_classes": [],
            "_model_module": "@jupyter-widgets/controls",
            "_model_module_version": "1.5.0",
            "_model_name": "HBoxModel",
            "_view_count": null,
            "_view_module": "@jupyter-widgets/controls",
            "_view_module_version": "1.5.0",
            "_view_name": "HBoxView",
            "box_style": "",
            "children": [
              "IPY_MODEL_f4454c5839fe4363a55a5d2a1c54c2b6",
              "IPY_MODEL_768117e8517d47ed986ec2d1bf650a26",
              "IPY_MODEL_c8b6bbc732ec4bbb88c9440f3ba825a6"
            ],
            "layout": "IPY_MODEL_ad8256e7ec3b4c77a1e9fa4e3dbe51bf"
          }
        },
        "f4454c5839fe4363a55a5d2a1c54c2b6": {
          "model_module": "@jupyter-widgets/controls",
          "model_name": "HTMLModel",
          "model_module_version": "1.5.0",
          "state": {
            "_dom_classes": [],
            "_model_module": "@jupyter-widgets/controls",
            "_model_module_version": "1.5.0",
            "_model_name": "HTMLModel",
            "_view_count": null,
            "_view_module": "@jupyter-widgets/controls",
            "_view_module_version": "1.5.0",
            "_view_name": "HTMLView",
            "description": "",
            "description_tooltip": null,
            "layout": "IPY_MODEL_29e225f8fabd4f37b1ebb1866bf50baf",
            "placeholder": "​",
            "style": "IPY_MODEL_16697574489d4123b3d3eed5bbe31dcd",
            "value": "100%"
          }
        },
        "768117e8517d47ed986ec2d1bf650a26": {
          "model_module": "@jupyter-widgets/controls",
          "model_name": "FloatProgressModel",
          "model_module_version": "1.5.0",
          "state": {
            "_dom_classes": [],
            "_model_module": "@jupyter-widgets/controls",
            "_model_module_version": "1.5.0",
            "_model_name": "FloatProgressModel",
            "_view_count": null,
            "_view_module": "@jupyter-widgets/controls",
            "_view_module_version": "1.5.0",
            "_view_name": "ProgressView",
            "bar_style": "success",
            "description": "",
            "description_tooltip": null,
            "layout": "IPY_MODEL_4e1e078e891847aeb55f5cc365158bbf",
            "max": 313,
            "min": 0,
            "orientation": "horizontal",
            "style": "IPY_MODEL_29f3138d6292451f95d30cbcdf0bc793",
            "value": 313
          }
        },
        "c8b6bbc732ec4bbb88c9440f3ba825a6": {
          "model_module": "@jupyter-widgets/controls",
          "model_name": "HTMLModel",
          "model_module_version": "1.5.0",
          "state": {
            "_dom_classes": [],
            "_model_module": "@jupyter-widgets/controls",
            "_model_module_version": "1.5.0",
            "_model_name": "HTMLModel",
            "_view_count": null,
            "_view_module": "@jupyter-widgets/controls",
            "_view_module_version": "1.5.0",
            "_view_name": "HTMLView",
            "description": "",
            "description_tooltip": null,
            "layout": "IPY_MODEL_3bcc9de38feb41208f78bad9c26c1888",
            "placeholder": "​",
            "style": "IPY_MODEL_eead117484814684bf12a5204821866b",
            "value": " 313/313 [00:04&lt;00:00, 53.94it/s]"
          }
        },
        "ad8256e7ec3b4c77a1e9fa4e3dbe51bf": {
          "model_module": "@jupyter-widgets/base",
          "model_name": "LayoutModel",
          "model_module_version": "1.2.0",
          "state": {
            "_model_module": "@jupyter-widgets/base",
            "_model_module_version": "1.2.0",
            "_model_name": "LayoutModel",
            "_view_count": null,
            "_view_module": "@jupyter-widgets/base",
            "_view_module_version": "1.2.0",
            "_view_name": "LayoutView",
            "align_content": null,
            "align_items": null,
            "align_self": null,
            "border": null,
            "bottom": null,
            "display": null,
            "flex": null,
            "flex_flow": null,
            "grid_area": null,
            "grid_auto_columns": null,
            "grid_auto_flow": null,
            "grid_auto_rows": null,
            "grid_column": null,
            "grid_gap": null,
            "grid_row": null,
            "grid_template_areas": null,
            "grid_template_columns": null,
            "grid_template_rows": null,
            "height": null,
            "justify_content": null,
            "justify_items": null,
            "left": null,
            "margin": null,
            "max_height": null,
            "max_width": null,
            "min_height": null,
            "min_width": null,
            "object_fit": null,
            "object_position": null,
            "order": null,
            "overflow": null,
            "overflow_x": null,
            "overflow_y": null,
            "padding": null,
            "right": null,
            "top": null,
            "visibility": null,
            "width": null
          }
        },
        "29e225f8fabd4f37b1ebb1866bf50baf": {
          "model_module": "@jupyter-widgets/base",
          "model_name": "LayoutModel",
          "model_module_version": "1.2.0",
          "state": {
            "_model_module": "@jupyter-widgets/base",
            "_model_module_version": "1.2.0",
            "_model_name": "LayoutModel",
            "_view_count": null,
            "_view_module": "@jupyter-widgets/base",
            "_view_module_version": "1.2.0",
            "_view_name": "LayoutView",
            "align_content": null,
            "align_items": null,
            "align_self": null,
            "border": null,
            "bottom": null,
            "display": null,
            "flex": null,
            "flex_flow": null,
            "grid_area": null,
            "grid_auto_columns": null,
            "grid_auto_flow": null,
            "grid_auto_rows": null,
            "grid_column": null,
            "grid_gap": null,
            "grid_row": null,
            "grid_template_areas": null,
            "grid_template_columns": null,
            "grid_template_rows": null,
            "height": null,
            "justify_content": null,
            "justify_items": null,
            "left": null,
            "margin": null,
            "max_height": null,
            "max_width": null,
            "min_height": null,
            "min_width": null,
            "object_fit": null,
            "object_position": null,
            "order": null,
            "overflow": null,
            "overflow_x": null,
            "overflow_y": null,
            "padding": null,
            "right": null,
            "top": null,
            "visibility": null,
            "width": null
          }
        },
        "16697574489d4123b3d3eed5bbe31dcd": {
          "model_module": "@jupyter-widgets/controls",
          "model_name": "DescriptionStyleModel",
          "model_module_version": "1.5.0",
          "state": {
            "_model_module": "@jupyter-widgets/controls",
            "_model_module_version": "1.5.0",
            "_model_name": "DescriptionStyleModel",
            "_view_count": null,
            "_view_module": "@jupyter-widgets/base",
            "_view_module_version": "1.2.0",
            "_view_name": "StyleView",
            "description_width": ""
          }
        },
        "4e1e078e891847aeb55f5cc365158bbf": {
          "model_module": "@jupyter-widgets/base",
          "model_name": "LayoutModel",
          "model_module_version": "1.2.0",
          "state": {
            "_model_module": "@jupyter-widgets/base",
            "_model_module_version": "1.2.0",
            "_model_name": "LayoutModel",
            "_view_count": null,
            "_view_module": "@jupyter-widgets/base",
            "_view_module_version": "1.2.0",
            "_view_name": "LayoutView",
            "align_content": null,
            "align_items": null,
            "align_self": null,
            "border": null,
            "bottom": null,
            "display": null,
            "flex": null,
            "flex_flow": null,
            "grid_area": null,
            "grid_auto_columns": null,
            "grid_auto_flow": null,
            "grid_auto_rows": null,
            "grid_column": null,
            "grid_gap": null,
            "grid_row": null,
            "grid_template_areas": null,
            "grid_template_columns": null,
            "grid_template_rows": null,
            "height": null,
            "justify_content": null,
            "justify_items": null,
            "left": null,
            "margin": null,
            "max_height": null,
            "max_width": null,
            "min_height": null,
            "min_width": null,
            "object_fit": null,
            "object_position": null,
            "order": null,
            "overflow": null,
            "overflow_x": null,
            "overflow_y": null,
            "padding": null,
            "right": null,
            "top": null,
            "visibility": null,
            "width": null
          }
        },
        "29f3138d6292451f95d30cbcdf0bc793": {
          "model_module": "@jupyter-widgets/controls",
          "model_name": "ProgressStyleModel",
          "model_module_version": "1.5.0",
          "state": {
            "_model_module": "@jupyter-widgets/controls",
            "_model_module_version": "1.5.0",
            "_model_name": "ProgressStyleModel",
            "_view_count": null,
            "_view_module": "@jupyter-widgets/base",
            "_view_module_version": "1.2.0",
            "_view_name": "StyleView",
            "bar_color": null,
            "description_width": ""
          }
        },
        "3bcc9de38feb41208f78bad9c26c1888": {
          "model_module": "@jupyter-widgets/base",
          "model_name": "LayoutModel",
          "model_module_version": "1.2.0",
          "state": {
            "_model_module": "@jupyter-widgets/base",
            "_model_module_version": "1.2.0",
            "_model_name": "LayoutModel",
            "_view_count": null,
            "_view_module": "@jupyter-widgets/base",
            "_view_module_version": "1.2.0",
            "_view_name": "LayoutView",
            "align_content": null,
            "align_items": null,
            "align_self": null,
            "border": null,
            "bottom": null,
            "display": null,
            "flex": null,
            "flex_flow": null,
            "grid_area": null,
            "grid_auto_columns": null,
            "grid_auto_flow": null,
            "grid_auto_rows": null,
            "grid_column": null,
            "grid_gap": null,
            "grid_row": null,
            "grid_template_areas": null,
            "grid_template_columns": null,
            "grid_template_rows": null,
            "height": null,
            "justify_content": null,
            "justify_items": null,
            "left": null,
            "margin": null,
            "max_height": null,
            "max_width": null,
            "min_height": null,
            "min_width": null,
            "object_fit": null,
            "object_position": null,
            "order": null,
            "overflow": null,
            "overflow_x": null,
            "overflow_y": null,
            "padding": null,
            "right": null,
            "top": null,
            "visibility": null,
            "width": null
          }
        },
        "eead117484814684bf12a5204821866b": {
          "model_module": "@jupyter-widgets/controls",
          "model_name": "DescriptionStyleModel",
          "model_module_version": "1.5.0",
          "state": {
            "_model_module": "@jupyter-widgets/controls",
            "_model_module_version": "1.5.0",
            "_model_name": "DescriptionStyleModel",
            "_view_count": null,
            "_view_module": "@jupyter-widgets/base",
            "_view_module_version": "1.2.0",
            "_view_name": "StyleView",
            "description_width": ""
          }
        }
      }
    }
  },
  "nbformat": 4,
  "nbformat_minor": 0
}